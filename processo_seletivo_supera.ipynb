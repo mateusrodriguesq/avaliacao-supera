{
  "nbformat": 4,
  "nbformat_minor": 0,
  "metadata": {
    "colab": {
      "name": "processo-seletivo-supera.ipynb",
      "provenance": [],
      "toc_visible": true,
      "authorship_tag": "ABX9TyNUvxlttGA5IHrUc6oFYEAA",
      "include_colab_link": true
    },
    "kernelspec": {
      "name": "python3",
      "display_name": "Python 3"
    },
    "language_info": {
      "name": "python"
    }
  },
  "cells": [
    {
      "cell_type": "markdown",
      "metadata": {
        "id": "view-in-github",
        "colab_type": "text"
      },
      "source": [
        "<a href=\"https://colab.research.google.com/github/mateusrodriguesq/avaliacao-supera/blob/main/processo_seletivo_supera.ipynb\" target=\"_parent\"><img src=\"https://colab.research.google.com/assets/colab-badge.svg\" alt=\"Open In Colab\"/></a>"
      ]
    },
    {
      "cell_type": "markdown",
      "metadata": {
        "id": "hJhdjungxGuH"
      },
      "source": [
        "# **Avaliação Processo Seletivo — Supera, Analista de dados Pleno**"
      ]
    },
    {
      "cell_type": "markdown",
      "metadata": {
        "id": "x-i40_hSxUrX"
      },
      "source": [
        "Bom dia, meu nome é Mateus Rodrigues e realizarei um teste para o processo seletivo da Quaest para avaliar minhas habilidades como Analista de dados por meio da linguagem de programação Python via Google Colab.\n",
        "\n",
        "A atividade é analisar dois bancos de dados e propor um modelo onde preverá se o filme irá passar ou não no teste de Bechdel."
      ]
    },
    {
      "cell_type": "markdown",
      "metadata": {
        "id": "3JIlGJNzyY8j"
      },
      "source": [
        "#**Banco de dados e livrarias**\n"
      ]
    },
    {
      "cell_type": "markdown",
      "metadata": {
        "id": "IJ5vdGeUyZ1n"
      },
      "source": [
        "Primeiramente, é essencial importarmos o banco de dados para o Google Colab. Por ser uma plataforma em nuvem podemos fazê-lo de várias formas. Uma delas, para banco de dados não tão extensos em tamanho de arquivo, como este(35kbs), se torna mais fácil \"*dar upload*\" no arquivo já disponibilizado pelo email."
      ]
    },
    {
      "cell_type": "code",
      "metadata": {
        "colab": {
          "resources": {
            "http://localhost:8080/nbextensions/google.colab/files.js": {
              "data": "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",
              "ok": true,
              "headers": [
                [
                  "content-type",
                  "application/javascript"
                ]
              ],
              "status": 200,
              "status_text": ""
            }
          },
          "base_uri": "https://localhost:8080/",
          "height": 38
        },
        "id": "UIbIOudlysLX",
        "outputId": "9fe11972-f224-4caa-d9c4-0872f3b82730"
      },
      "source": [
        "#Importarei uma livraria do próprio Google Colab chamada \"files\" com propósito de conseguirmos colocar o arquivo e instanciá-lo em um *DataFrame*\n",
        "from google.colab import files\n",
        "upload = files.upload()"
      ],
      "execution_count": 389,
      "outputs": [
        {
          "output_type": "display_data",
          "data": {
            "text/html": [
              "\n",
              "     <input type=\"file\" id=\"files-64156fe5-7fd1-4bdc-bd47-8efbcc10c7fb\" name=\"files[]\" multiple disabled\n",
              "        style=\"border:none\" />\n",
              "     <output id=\"result-64156fe5-7fd1-4bdc-bd47-8efbcc10c7fb\">\n",
              "      Upload widget is only available when the cell has been executed in the\n",
              "      current browser session. Please rerun this cell to enable.\n",
              "      </output>\n",
              "      <script src=\"/nbextensions/google.colab/files.js\"></script> "
            ],
            "text/plain": [
              "<IPython.core.display.HTML object>"
            ]
          },
          "metadata": {
            "tags": []
          }
        }
      ]
    },
    {
      "cell_type": "code",
      "metadata": {
        "colab": {
          "resources": {
            "http://localhost:8080/nbextensions/google.colab/files.js": {
              "data": "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",
              "ok": true,
              "headers": [
                [
                  "content-type",
                  "application/javascript"
                ]
              ],
              "status": 200,
              "status_text": ""
            }
          },
          "base_uri": "https://localhost:8080/",
          "height": 38
        },
        "id": "-FqlMkT1zu28",
        "outputId": "18b59efb-a243-4c8e-8ee5-e4f485c935cc"
      },
      "source": [
        "#Importar o banco de dados de teste: test.csv\n",
        "upload = files.upload()"
      ],
      "execution_count": 390,
      "outputs": [
        {
          "output_type": "display_data",
          "data": {
            "text/html": [
              "\n",
              "     <input type=\"file\" id=\"files-8f02d7f5-787f-43d5-8257-9b966f2248e0\" name=\"files[]\" multiple disabled\n",
              "        style=\"border:none\" />\n",
              "     <output id=\"result-8f02d7f5-787f-43d5-8257-9b966f2248e0\">\n",
              "      Upload widget is only available when the cell has been executed in the\n",
              "      current browser session. Please rerun this cell to enable.\n",
              "      </output>\n",
              "      <script src=\"/nbextensions/google.colab/files.js\"></script> "
            ],
            "text/plain": [
              "<IPython.core.display.HTML object>"
            ]
          },
          "metadata": {
            "tags": []
          }
        }
      ]
    },
    {
      "cell_type": "markdown",
      "metadata": {
        "id": "nV6jJIV3zNJZ"
      },
      "source": [
        "Outra biblioteca muito importante que iremos adicionar antes mesmo de começarmos é a livraria **pandas**, que sem dúvidas é a mais utilizada em todo meio de manipulação de banco de dados dentro de arquivos em Python, conseguindo lidar com qualquer tipo de arquivo (.csv, .xls, .xlsx, .json e afins). "
      ]
    },
    {
      "cell_type": "code",
      "metadata": {
        "colab": {
          "base_uri": "https://localhost:8080/",
          "height": 221
        },
        "id": "ZUKY9J8Dw18j",
        "outputId": "2037b281-c90a-4347-edeb-f6460f54df77"
      },
      "source": [
        "#Primeiro importaremos. Para facilitar em toda a análise, será simplificado seu nome utilizando a palavra-chave \"as\" para transformar o \"pandas\" em \"pd\", como um apelido.\n",
        "import pandas as pd\n",
        "#Livraria para manipulações algébricas\n",
        "import numpy as np\n",
        "#Livraria para LabelEncoder(transformando variáveis categóricas em  numéricas)\n",
        "from sklearn import preprocessing\n",
        "#Visualização interativa de dados\n",
        "import plotly.graph_objects as go\n",
        "import plotly.offline as py\n",
        "import plotly.express as px\n",
        "\n",
        "#Declarando os bancos de dados em variáveis\n",
        "bechdel = 'bechdel.xlsx'\n",
        "test = 'test.csv'\n",
        "#Utilizando a função pd.read_csv para \"test.csv\" e pd.read_excel para \"bechdel.xlsx\"\n",
        "teste = pd.read_csv(test)\n",
        "bh_df = pd.read_excel(bechdel,sheet_name=0)\n",
        "bh_df.head()"
      ],
      "execution_count": 391,
      "outputs": [
        {
          "output_type": "execute_result",
          "data": {
            "text/html": [
              "<div>\n",
              "<style scoped>\n",
              "    .dataframe tbody tr th:only-of-type {\n",
              "        vertical-align: middle;\n",
              "    }\n",
              "\n",
              "    .dataframe tbody tr th {\n",
              "        vertical-align: top;\n",
              "    }\n",
              "\n",
              "    .dataframe thead th {\n",
              "        text-align: right;\n",
              "    }\n",
              "</style>\n",
              "<table border=\"1\" class=\"dataframe\">\n",
              "  <thead>\n",
              "    <tr style=\"text-align: right;\">\n",
              "      <th></th>\n",
              "      <th>Year</th>\n",
              "      <th>IMDB code</th>\n",
              "      <th>Budget</th>\n",
              "      <th>Dom gross</th>\n",
              "      <th>Int Gross</th>\n",
              "      <th>Code</th>\n",
              "      <th>budget 2013 dollars</th>\n",
              "      <th>Dom gross 2013 dollars</th>\n",
              "      <th>Int gross 2013 dollars</th>\n",
              "      <th>Simple pass / fail</th>\n",
              "      <th>Unnamed: 10</th>\n",
              "      <th>Unnamed: 11</th>\n",
              "    </tr>\n",
              "  </thead>\n",
              "  <tbody>\n",
              "    <tr>\n",
              "      <th>0</th>\n",
              "      <td>year</td>\n",
              "      <td>imdb</td>\n",
              "      <td>budget</td>\n",
              "      <td>domgross</td>\n",
              "      <td>intgross</td>\n",
              "      <td>code</td>\n",
              "      <td>budget_2013</td>\n",
              "      <td>domgross_2013</td>\n",
              "      <td>intgross_2013</td>\n",
              "      <td>binary</td>\n",
              "      <td>NaN</td>\n",
              "      <td>NaN</td>\n",
              "    </tr>\n",
              "    <tr>\n",
              "      <th>1</th>\n",
              "      <td>1974</td>\n",
              "      <td>tt0071562</td>\n",
              "      <td>13000000</td>\n",
              "      <td>57300000</td>\n",
              "      <td>57300000</td>\n",
              "      <td>1974PASS</td>\n",
              "      <td>61408439</td>\n",
              "      <td>270669505</td>\n",
              "      <td>270669505</td>\n",
              "      <td>PASS</td>\n",
              "      <td>NaN</td>\n",
              "      <td>NaN</td>\n",
              "    </tr>\n",
              "    <tr>\n",
              "      <th>2</th>\n",
              "      <td>1982</td>\n",
              "      <td>tt0084516</td>\n",
              "      <td>10700000</td>\n",
              "      <td>74706019</td>\n",
              "      <td>121706019</td>\n",
              "      <td>1982PASS</td>\n",
              "      <td>25821968</td>\n",
              "      <td>180285645</td>\n",
              "      <td>293709241</td>\n",
              "      <td>PASS</td>\n",
              "      <td>NaN</td>\n",
              "      <td>NaN</td>\n",
              "    </tr>\n",
              "    <tr>\n",
              "      <th>3</th>\n",
              "      <td>2008</td>\n",
              "      <td>tt0800241</td>\n",
              "      <td>15000000</td>\n",
              "      <td>2203641</td>\n",
              "      <td>6379575</td>\n",
              "      <td>2008PASS</td>\n",
              "      <td>16233845</td>\n",
              "      <td>2384904</td>\n",
              "      <td>6904335</td>\n",
              "      <td>PASS</td>\n",
              "      <td>NaN</td>\n",
              "      <td>https://en.wikipedia.org/wiki/Bechdel_test</td>\n",
              "    </tr>\n",
              "    <tr>\n",
              "      <th>4</th>\n",
              "      <td>2011</td>\n",
              "      <td>tt1625346</td>\n",
              "      <td>12000000</td>\n",
              "      <td>16311571</td>\n",
              "      <td>22750356</td>\n",
              "      <td>2011PASS</td>\n",
              "      <td>12428289</td>\n",
              "      <td>16893744</td>\n",
              "      <td>23562334</td>\n",
              "      <td>PASS</td>\n",
              "      <td>NaN</td>\n",
              "      <td>NaN</td>\n",
              "    </tr>\n",
              "  </tbody>\n",
              "</table>\n",
              "</div>"
            ],
            "text/plain": [
              "   Year  IMDB code  ... Unnamed: 10                                 Unnamed: 11\n",
              "0  year       imdb  ...         NaN                                         NaN\n",
              "1  1974  tt0071562  ...         NaN                                         NaN\n",
              "2  1982  tt0084516  ...         NaN                                         NaN\n",
              "3  2008  tt0800241  ...         NaN  https://en.wikipedia.org/wiki/Bechdel_test\n",
              "4  2011  tt1625346  ...         NaN                                         NaN\n",
              "\n",
              "[5 rows x 12 columns]"
            ]
          },
          "metadata": {
            "tags": []
          },
          "execution_count": 391
        }
      ]
    },
    {
      "cell_type": "code",
      "metadata": {
        "colab": {
          "base_uri": "https://localhost:8080/",
          "height": 204
        },
        "id": "WPEwo4KM-rMj",
        "outputId": "301dd75c-90cc-4b01-a9d3-c15901b244e6"
      },
      "source": [
        "teste.head()"
      ],
      "execution_count": 392,
      "outputs": [
        {
          "output_type": "execute_result",
          "data": {
            "text/html": [
              "<div>\n",
              "<style scoped>\n",
              "    .dataframe tbody tr th:only-of-type {\n",
              "        vertical-align: middle;\n",
              "    }\n",
              "\n",
              "    .dataframe tbody tr th {\n",
              "        vertical-align: top;\n",
              "    }\n",
              "\n",
              "    .dataframe thead th {\n",
              "        text-align: right;\n",
              "    }\n",
              "</style>\n",
              "<table border=\"1\" class=\"dataframe\">\n",
              "  <thead>\n",
              "    <tr style=\"text-align: right;\">\n",
              "      <th></th>\n",
              "      <th>year</th>\n",
              "      <th>imdb</th>\n",
              "      <th>budget</th>\n",
              "      <th>domgross</th>\n",
              "      <th>intgross</th>\n",
              "      <th>budget_2013</th>\n",
              "      <th>domgross_2013</th>\n",
              "      <th>intgross_2013</th>\n",
              "    </tr>\n",
              "  </thead>\n",
              "  <tbody>\n",
              "    <tr>\n",
              "      <th>0</th>\n",
              "      <td>2013</td>\n",
              "      <td>tt1559547</td>\n",
              "      <td>50000000</td>\n",
              "      <td>19452138.0</td>\n",
              "      <td>55940671.0</td>\n",
              "      <td>50000000</td>\n",
              "      <td>19452138.0</td>\n",
              "      <td>55940671.0</td>\n",
              "    </tr>\n",
              "    <tr>\n",
              "      <th>1</th>\n",
              "      <td>2013</td>\n",
              "      <td>tt0765446</td>\n",
              "      <td>40000000</td>\n",
              "      <td>57012977.0</td>\n",
              "      <td>66454811.0</td>\n",
              "      <td>40000000</td>\n",
              "      <td>57012977.0</td>\n",
              "      <td>66454811.0</td>\n",
              "    </tr>\n",
              "    <tr>\n",
              "      <th>2</th>\n",
              "      <td>2013</td>\n",
              "      <td>tt1211956</td>\n",
              "      <td>70000000</td>\n",
              "      <td>25213103.0</td>\n",
              "      <td>103813103.0</td>\n",
              "      <td>70000000</td>\n",
              "      <td>25213103.0</td>\n",
              "      <td>103813103.0</td>\n",
              "    </tr>\n",
              "    <tr>\n",
              "      <th>3</th>\n",
              "      <td>2013</td>\n",
              "      <td>tt1351685</td>\n",
              "      <td>195000000</td>\n",
              "      <td>65187603.0</td>\n",
              "      <td>197387603.0</td>\n",
              "      <td>195000000</td>\n",
              "      <td>65187603.0</td>\n",
              "      <td>197387603.0</td>\n",
              "    </tr>\n",
              "    <tr>\n",
              "      <th>4</th>\n",
              "      <td>2013</td>\n",
              "      <td>tt1650554</td>\n",
              "      <td>28000000</td>\n",
              "      <td>28795985.0</td>\n",
              "      <td>60839197.0</td>\n",
              "      <td>28000000</td>\n",
              "      <td>28795985.0</td>\n",
              "      <td>60839197.0</td>\n",
              "    </tr>\n",
              "  </tbody>\n",
              "</table>\n",
              "</div>"
            ],
            "text/plain": [
              "   year       imdb     budget  ...  budget_2013  domgross_2013  intgross_2013\n",
              "0  2013  tt1559547   50000000  ...     50000000     19452138.0     55940671.0\n",
              "1  2013  tt0765446   40000000  ...     40000000     57012977.0     66454811.0\n",
              "2  2013  tt1211956   70000000  ...     70000000     25213103.0    103813103.0\n",
              "3  2013  tt1351685  195000000  ...    195000000     65187603.0    197387603.0\n",
              "4  2013  tt1650554   28000000  ...     28000000     28795985.0     60839197.0\n",
              "\n",
              "[5 rows x 8 columns]"
            ]
          },
          "metadata": {
            "tags": []
          },
          "execution_count": 392
        }
      ]
    },
    {
      "cell_type": "markdown",
      "metadata": {
        "id": "pl6pdTPe1ULF"
      },
      "source": [
        "# **Esclarecimento das Atividades**\n"
      ]
    },
    {
      "cell_type": "markdown",
      "metadata": {
        "id": "S_NWpogJ1U7P"
      },
      "source": [
        "O desafio consiste em 3 partes: \n",
        "\n",
        "* **1ª etapa, a \"configuração de dados\":** Importar o *dataset* chamado *\"Bechdel.xlsx\"* em Python ou R e preparar o banco de dados para a análise.\n",
        "\n",
        "Aprender sobre o teste de Bechdel e ver o *data dictionary* para detalhes dos nomes das variáveis.\n",
        "\n",
        "* **2ª etapa, Análise de dados:** Resumir os dados utilizando métodos estatísticos respondendo duas questões:\n",
        "\n",
        "> Qual a porcentagem dos filmes que passaram no teste, baseado na definição binária?\n",
        "\n",
        "> Como a porcentagem de filmes que passaram mudaram com o tempo?\n",
        "\n",
        "> Propor um modelo que irá prever se o filme passa ou falha no teste, baseada em qualquer das variáveis que forem úteis.\n",
        "\n",
        "> Utilizar o banco de dados chamado *test.csv*, aplicando o modelo preditivo, classificando este banco de dados se estes novos filmes irão passar ou não no teste(1=passou, 0=falhou). Salvar as predições num arquivo chamado *mdb.csv*.\n",
        "\n",
        "* **3ª etapa, Controle de versão:** Disponibilizar o código em um repositório público no Github ou serviços similares. Prover o link\n",
        "\n",
        "\n",
        "\n",
        " \n",
        "\n",
        "\n",
        "\n",
        "\n",
        "\n"
      ]
    },
    {
      "cell_type": "markdown",
      "metadata": {
        "id": "4IUHNiic6cKL"
      },
      "source": [
        "#**1ª Etapa**"
      ]
    },
    {
      "cell_type": "markdown",
      "metadata": {
        "id": "DldyBsDb6z0I"
      },
      "source": [
        "##**Limpeza de Dados**"
      ]
    },
    {
      "cell_type": "markdown",
      "metadata": {
        "id": "HuX3qxLa65TA"
      },
      "source": [
        "A nossa função na limpeza de dados é facilitar o processo de **Análise Exploratória de dados**, seja esta análise por tabelas ou gráficos. Ás vezes numa coleta de dados, nem sempre é otimizada o suficiente para obtermos uma análise limpa, como nomes resumidos ou mal compreendidos, colunas com muitas informações, colunas não tão importantes e afins. Por isto, iremos descomplicar certas atividades realizadas no futuro."
      ]
    },
    {
      "cell_type": "markdown",
      "metadata": {
        "id": "QgccQVwe7Cop"
      },
      "source": [
        "###**Primeira modificação**\n",
        " Remover duas colunas com valores nulos e em outras colunas.\n",
        "Como as colunas não acrescentam nada além do link para o Teste de Bechdel, onde já foi obtido nas orientações dentro do arquivo no email, iremos retirá-las e vamos analisar se há valores nulos em outras variáveis e removê-los.\n"
      ]
    },
    {
      "cell_type": "code",
      "metadata": {
        "colab": {
          "base_uri": "https://localhost:8080/",
          "height": 0
        },
        "id": "vak73PF47wQP",
        "outputId": "6f342d52-42b5-48d4-c746-eac3534d190c"
      },
      "source": [
        "#Removendo as colunas não nomeadas 10 e 11.\n",
        "bh_df = bh_df.drop(columns=bh_df.columns[11])\n",
        "bh_df = bh_df.drop(columns=bh_df.columns[10])\n",
        "bh_df.head()"
      ],
      "execution_count": 393,
      "outputs": [
        {
          "output_type": "execute_result",
          "data": {
            "text/html": [
              "<div>\n",
              "<style scoped>\n",
              "    .dataframe tbody tr th:only-of-type {\n",
              "        vertical-align: middle;\n",
              "    }\n",
              "\n",
              "    .dataframe tbody tr th {\n",
              "        vertical-align: top;\n",
              "    }\n",
              "\n",
              "    .dataframe thead th {\n",
              "        text-align: right;\n",
              "    }\n",
              "</style>\n",
              "<table border=\"1\" class=\"dataframe\">\n",
              "  <thead>\n",
              "    <tr style=\"text-align: right;\">\n",
              "      <th></th>\n",
              "      <th>Year</th>\n",
              "      <th>IMDB code</th>\n",
              "      <th>Budget</th>\n",
              "      <th>Dom gross</th>\n",
              "      <th>Int Gross</th>\n",
              "      <th>Code</th>\n",
              "      <th>budget 2013 dollars</th>\n",
              "      <th>Dom gross 2013 dollars</th>\n",
              "      <th>Int gross 2013 dollars</th>\n",
              "      <th>Simple pass / fail</th>\n",
              "    </tr>\n",
              "  </thead>\n",
              "  <tbody>\n",
              "    <tr>\n",
              "      <th>0</th>\n",
              "      <td>year</td>\n",
              "      <td>imdb</td>\n",
              "      <td>budget</td>\n",
              "      <td>domgross</td>\n",
              "      <td>intgross</td>\n",
              "      <td>code</td>\n",
              "      <td>budget_2013</td>\n",
              "      <td>domgross_2013</td>\n",
              "      <td>intgross_2013</td>\n",
              "      <td>binary</td>\n",
              "    </tr>\n",
              "    <tr>\n",
              "      <th>1</th>\n",
              "      <td>1974</td>\n",
              "      <td>tt0071562</td>\n",
              "      <td>13000000</td>\n",
              "      <td>57300000</td>\n",
              "      <td>57300000</td>\n",
              "      <td>1974PASS</td>\n",
              "      <td>61408439</td>\n",
              "      <td>270669505</td>\n",
              "      <td>270669505</td>\n",
              "      <td>PASS</td>\n",
              "    </tr>\n",
              "    <tr>\n",
              "      <th>2</th>\n",
              "      <td>1982</td>\n",
              "      <td>tt0084516</td>\n",
              "      <td>10700000</td>\n",
              "      <td>74706019</td>\n",
              "      <td>121706019</td>\n",
              "      <td>1982PASS</td>\n",
              "      <td>25821968</td>\n",
              "      <td>180285645</td>\n",
              "      <td>293709241</td>\n",
              "      <td>PASS</td>\n",
              "    </tr>\n",
              "    <tr>\n",
              "      <th>3</th>\n",
              "      <td>2008</td>\n",
              "      <td>tt0800241</td>\n",
              "      <td>15000000</td>\n",
              "      <td>2203641</td>\n",
              "      <td>6379575</td>\n",
              "      <td>2008PASS</td>\n",
              "      <td>16233845</td>\n",
              "      <td>2384904</td>\n",
              "      <td>6904335</td>\n",
              "      <td>PASS</td>\n",
              "    </tr>\n",
              "    <tr>\n",
              "      <th>4</th>\n",
              "      <td>2011</td>\n",
              "      <td>tt1625346</td>\n",
              "      <td>12000000</td>\n",
              "      <td>16311571</td>\n",
              "      <td>22750356</td>\n",
              "      <td>2011PASS</td>\n",
              "      <td>12428289</td>\n",
              "      <td>16893744</td>\n",
              "      <td>23562334</td>\n",
              "      <td>PASS</td>\n",
              "    </tr>\n",
              "  </tbody>\n",
              "</table>\n",
              "</div>"
            ],
            "text/plain": [
              "   Year  IMDB code  ... Int gross 2013 dollars Simple pass / fail\n",
              "0  year       imdb  ...          intgross_2013             binary\n",
              "1  1974  tt0071562  ...              270669505               PASS\n",
              "2  1982  tt0084516  ...              293709241               PASS\n",
              "3  2008  tt0800241  ...                6904335               PASS\n",
              "4  2011  tt1625346  ...               23562334               PASS\n",
              "\n",
              "[5 rows x 10 columns]"
            ]
          },
          "metadata": {
            "tags": []
          },
          "execution_count": 393
        }
      ]
    },
    {
      "cell_type": "code",
      "metadata": {
        "colab": {
          "base_uri": "https://localhost:8080/"
        },
        "id": "unyxbaYc_PBQ",
        "outputId": "86fb6087-4eb7-481a-e084-a39ee9555d8a"
      },
      "source": [
        "#Verificando se há valores nulos.\n",
        "bh_df.info()"
      ],
      "execution_count": 394,
      "outputs": [
        {
          "output_type": "stream",
          "text": [
            "<class 'pandas.core.frame.DataFrame'>\n",
            "RangeIndex: 1501 entries, 0 to 1500\n",
            "Data columns (total 10 columns):\n",
            " #   Column                  Non-Null Count  Dtype \n",
            "---  ------                  --------------  ----- \n",
            " 0   Year                    1501 non-null   object\n",
            " 1   IMDB code               1501 non-null   object\n",
            " 2   Budget                  1501 non-null   object\n",
            " 3   Dom gross               1486 non-null   object\n",
            " 4   Int Gross               1492 non-null   object\n",
            " 5   Code                    1501 non-null   object\n",
            " 6   budget 2013 dollars     1501 non-null   object\n",
            " 7   Dom gross 2013 dollars  1485 non-null   object\n",
            " 8   Int gross 2013 dollars  1492 non-null   object\n",
            " 9   Simple pass / fail      1501 non-null   object\n",
            "dtypes: object(10)\n",
            "memory usage: 117.4+ KB\n"
          ],
          "name": "stdout"
        }
      ]
    },
    {
      "cell_type": "code",
      "metadata": {
        "colab": {
          "base_uri": "https://localhost:8080/"
        },
        "id": "Dg45H-ySCRmU",
        "outputId": "438d8283-e197-4261-e55b-6960e106da47"
      },
      "source": [
        "#Podemos observar que há alguns valores nulos nas colunas: Dom gross, Int Gross, Dom Gross 2013 dollars e Int Gross 2013 dollars\n",
        "#Pela pequena quantidade, será retirado as linhas dos valores nulos.\n",
        "bh_df = bh_df[bh_df['Dom gross'].notna()]\n",
        "bh_df = bh_df[bh_df['Int Gross'].notna()] \n",
        "bh_df = bh_df[bh_df['Dom gross 2013 dollars'].notna()] \n",
        "bh_df = bh_df[bh_df['Int gross 2013 dollars'].notna()]\n",
        "bh_df.info()"
      ],
      "execution_count": 395,
      "outputs": [
        {
          "output_type": "stream",
          "text": [
            "<class 'pandas.core.frame.DataFrame'>\n",
            "Int64Index: 1485 entries, 0 to 1500\n",
            "Data columns (total 10 columns):\n",
            " #   Column                  Non-Null Count  Dtype \n",
            "---  ------                  --------------  ----- \n",
            " 0   Year                    1485 non-null   object\n",
            " 1   IMDB code               1485 non-null   object\n",
            " 2   Budget                  1485 non-null   object\n",
            " 3   Dom gross               1485 non-null   object\n",
            " 4   Int Gross               1485 non-null   object\n",
            " 5   Code                    1485 non-null   object\n",
            " 6   budget 2013 dollars     1485 non-null   object\n",
            " 7   Dom gross 2013 dollars  1485 non-null   object\n",
            " 8   Int gross 2013 dollars  1485 non-null   object\n",
            " 9   Simple pass / fail      1485 non-null   object\n",
            "dtypes: object(10)\n",
            "memory usage: 127.6+ KB\n"
          ],
          "name": "stdout"
        }
      ]
    },
    {
      "cell_type": "code",
      "metadata": {
        "colab": {
          "base_uri": "https://localhost:8080/",
          "height": 0
        },
        "id": "jkTZDbdvFIlz",
        "outputId": "931bc095-e1b2-4302-e7d0-c634de281b18"
      },
      "source": [
        "bh_df.head()"
      ],
      "execution_count": 396,
      "outputs": [
        {
          "output_type": "execute_result",
          "data": {
            "text/html": [
              "<div>\n",
              "<style scoped>\n",
              "    .dataframe tbody tr th:only-of-type {\n",
              "        vertical-align: middle;\n",
              "    }\n",
              "\n",
              "    .dataframe tbody tr th {\n",
              "        vertical-align: top;\n",
              "    }\n",
              "\n",
              "    .dataframe thead th {\n",
              "        text-align: right;\n",
              "    }\n",
              "</style>\n",
              "<table border=\"1\" class=\"dataframe\">\n",
              "  <thead>\n",
              "    <tr style=\"text-align: right;\">\n",
              "      <th></th>\n",
              "      <th>Year</th>\n",
              "      <th>IMDB code</th>\n",
              "      <th>Budget</th>\n",
              "      <th>Dom gross</th>\n",
              "      <th>Int Gross</th>\n",
              "      <th>Code</th>\n",
              "      <th>budget 2013 dollars</th>\n",
              "      <th>Dom gross 2013 dollars</th>\n",
              "      <th>Int gross 2013 dollars</th>\n",
              "      <th>Simple pass / fail</th>\n",
              "    </tr>\n",
              "  </thead>\n",
              "  <tbody>\n",
              "    <tr>\n",
              "      <th>0</th>\n",
              "      <td>year</td>\n",
              "      <td>imdb</td>\n",
              "      <td>budget</td>\n",
              "      <td>domgross</td>\n",
              "      <td>intgross</td>\n",
              "      <td>code</td>\n",
              "      <td>budget_2013</td>\n",
              "      <td>domgross_2013</td>\n",
              "      <td>intgross_2013</td>\n",
              "      <td>binary</td>\n",
              "    </tr>\n",
              "    <tr>\n",
              "      <th>1</th>\n",
              "      <td>1974</td>\n",
              "      <td>tt0071562</td>\n",
              "      <td>13000000</td>\n",
              "      <td>57300000</td>\n",
              "      <td>57300000</td>\n",
              "      <td>1974PASS</td>\n",
              "      <td>61408439</td>\n",
              "      <td>270669505</td>\n",
              "      <td>270669505</td>\n",
              "      <td>PASS</td>\n",
              "    </tr>\n",
              "    <tr>\n",
              "      <th>2</th>\n",
              "      <td>1982</td>\n",
              "      <td>tt0084516</td>\n",
              "      <td>10700000</td>\n",
              "      <td>74706019</td>\n",
              "      <td>121706019</td>\n",
              "      <td>1982PASS</td>\n",
              "      <td>25821968</td>\n",
              "      <td>180285645</td>\n",
              "      <td>293709241</td>\n",
              "      <td>PASS</td>\n",
              "    </tr>\n",
              "    <tr>\n",
              "      <th>3</th>\n",
              "      <td>2008</td>\n",
              "      <td>tt0800241</td>\n",
              "      <td>15000000</td>\n",
              "      <td>2203641</td>\n",
              "      <td>6379575</td>\n",
              "      <td>2008PASS</td>\n",
              "      <td>16233845</td>\n",
              "      <td>2384904</td>\n",
              "      <td>6904335</td>\n",
              "      <td>PASS</td>\n",
              "    </tr>\n",
              "    <tr>\n",
              "      <th>4</th>\n",
              "      <td>2011</td>\n",
              "      <td>tt1625346</td>\n",
              "      <td>12000000</td>\n",
              "      <td>16311571</td>\n",
              "      <td>22750356</td>\n",
              "      <td>2011PASS</td>\n",
              "      <td>12428289</td>\n",
              "      <td>16893744</td>\n",
              "      <td>23562334</td>\n",
              "      <td>PASS</td>\n",
              "    </tr>\n",
              "  </tbody>\n",
              "</table>\n",
              "</div>"
            ],
            "text/plain": [
              "   Year  IMDB code  ... Int gross 2013 dollars Simple pass / fail\n",
              "0  year       imdb  ...          intgross_2013             binary\n",
              "1  1974  tt0071562  ...              270669505               PASS\n",
              "2  1982  tt0084516  ...              293709241               PASS\n",
              "3  2008  tt0800241  ...                6904335               PASS\n",
              "4  2011  tt1625346  ...               23562334               PASS\n",
              "\n",
              "[5 rows x 10 columns]"
            ]
          },
          "metadata": {
            "tags": []
          },
          "execution_count": 396
        }
      ]
    },
    {
      "cell_type": "markdown",
      "metadata": {
        "id": "qy_QcP5iFC38"
      },
      "source": [
        "### **Segunda modificação**\n",
        "  Renomear nomes extensos das colunas e remover a linha 0.\n",
        "\n",
        "Renomearemos o nome das colunas pelos nomes da linha 0, pela extensão desnecessária dos nomes."
      ]
    },
    {
      "cell_type": "code",
      "metadata": {
        "id": "F6VzVw7PGAww"
      },
      "source": [
        "#Renomeando as colunas com a linha 0.\n",
        "bh_df.columns = bh_df.iloc[0]\n",
        "#Removendo a linha 0.\n",
        "bh_df = bh_df.drop([0], axis=0)"
      ],
      "execution_count": 397,
      "outputs": []
    },
    {
      "cell_type": "code",
      "metadata": {
        "colab": {
          "base_uri": "https://localhost:8080/",
          "height": 0
        },
        "id": "jP18AODeI77P",
        "outputId": "5f84ffb1-5037-4f16-9a58-91389f2cc31c"
      },
      "source": [
        "bh_df.head()"
      ],
      "execution_count": 398,
      "outputs": [
        {
          "output_type": "execute_result",
          "data": {
            "text/html": [
              "<div>\n",
              "<style scoped>\n",
              "    .dataframe tbody tr th:only-of-type {\n",
              "        vertical-align: middle;\n",
              "    }\n",
              "\n",
              "    .dataframe tbody tr th {\n",
              "        vertical-align: top;\n",
              "    }\n",
              "\n",
              "    .dataframe thead th {\n",
              "        text-align: right;\n",
              "    }\n",
              "</style>\n",
              "<table border=\"1\" class=\"dataframe\">\n",
              "  <thead>\n",
              "    <tr style=\"text-align: right;\">\n",
              "      <th></th>\n",
              "      <th>year</th>\n",
              "      <th>imdb</th>\n",
              "      <th>budget</th>\n",
              "      <th>domgross</th>\n",
              "      <th>intgross</th>\n",
              "      <th>code</th>\n",
              "      <th>budget_2013</th>\n",
              "      <th>domgross_2013</th>\n",
              "      <th>intgross_2013</th>\n",
              "      <th>binary</th>\n",
              "    </tr>\n",
              "  </thead>\n",
              "  <tbody>\n",
              "    <tr>\n",
              "      <th>1</th>\n",
              "      <td>1974</td>\n",
              "      <td>tt0071562</td>\n",
              "      <td>13000000</td>\n",
              "      <td>57300000</td>\n",
              "      <td>57300000</td>\n",
              "      <td>1974PASS</td>\n",
              "      <td>61408439</td>\n",
              "      <td>270669505</td>\n",
              "      <td>270669505</td>\n",
              "      <td>PASS</td>\n",
              "    </tr>\n",
              "    <tr>\n",
              "      <th>2</th>\n",
              "      <td>1982</td>\n",
              "      <td>tt0084516</td>\n",
              "      <td>10700000</td>\n",
              "      <td>74706019</td>\n",
              "      <td>121706019</td>\n",
              "      <td>1982PASS</td>\n",
              "      <td>25821968</td>\n",
              "      <td>180285645</td>\n",
              "      <td>293709241</td>\n",
              "      <td>PASS</td>\n",
              "    </tr>\n",
              "    <tr>\n",
              "      <th>3</th>\n",
              "      <td>2008</td>\n",
              "      <td>tt0800241</td>\n",
              "      <td>15000000</td>\n",
              "      <td>2203641</td>\n",
              "      <td>6379575</td>\n",
              "      <td>2008PASS</td>\n",
              "      <td>16233845</td>\n",
              "      <td>2384904</td>\n",
              "      <td>6904335</td>\n",
              "      <td>PASS</td>\n",
              "    </tr>\n",
              "    <tr>\n",
              "      <th>4</th>\n",
              "      <td>2011</td>\n",
              "      <td>tt1625346</td>\n",
              "      <td>12000000</td>\n",
              "      <td>16311571</td>\n",
              "      <td>22750356</td>\n",
              "      <td>2011PASS</td>\n",
              "      <td>12428289</td>\n",
              "      <td>16893744</td>\n",
              "      <td>23562334</td>\n",
              "      <td>PASS</td>\n",
              "    </tr>\n",
              "    <tr>\n",
              "      <th>5</th>\n",
              "      <td>2000</td>\n",
              "      <td>tt0190590</td>\n",
              "      <td>26000000</td>\n",
              "      <td>45506619</td>\n",
              "      <td>75763814</td>\n",
              "      <td>2000FAIL</td>\n",
              "      <td>35175618</td>\n",
              "      <td>61566286</td>\n",
              "      <td>102501499</td>\n",
              "      <td>FAIL</td>\n",
              "    </tr>\n",
              "  </tbody>\n",
              "</table>\n",
              "</div>"
            ],
            "text/plain": [
              "0  year       imdb    budget  ... domgross_2013 intgross_2013 binary\n",
              "1  1974  tt0071562  13000000  ...     270669505     270669505   PASS\n",
              "2  1982  tt0084516  10700000  ...     180285645     293709241   PASS\n",
              "3  2008  tt0800241  15000000  ...       2384904       6904335   PASS\n",
              "4  2011  tt1625346  12000000  ...      16893744      23562334   PASS\n",
              "5  2000  tt0190590  26000000  ...      61566286     102501499   FAIL\n",
              "\n",
              "[5 rows x 10 columns]"
            ]
          },
          "metadata": {
            "tags": []
          },
          "execution_count": 398
        }
      ]
    },
    {
      "cell_type": "markdown",
      "metadata": {
        "id": "LS5DsNtBKyuy"
      },
      "source": [
        "#**2ª etapa**\n",
        "\n",
        "\n"
      ]
    },
    {
      "cell_type": "markdown",
      "metadata": {
        "id": "MYJY6xGpLGlN"
      },
      "source": [
        "Primeiramente, para a resposta de ambas perguntas, como é lidado com dados categóricos na coluna \"binary_test\", é importante transformar estes valores para númericos, onde 1 é igual ao filme que passou no teste e 0 houve falha. Será usufruido da livraria *preprocessing do Sklearn* chamado **LabelEncoder**."
      ]
    },
    {
      "cell_type": "markdown",
      "metadata": {
        "id": "5wKwpFDGPokB"
      },
      "source": [
        "**Primeira modificação**\n",
        " Transformar os valores categóricos da coluna \"binary_test\" em 0 e 1.\n"
      ]
    },
    {
      "cell_type": "code",
      "metadata": {
        "colab": {
          "base_uri": "https://localhost:8080/",
          "height": 204
        },
        "id": "9KRzpUouP8Rt",
        "outputId": "9618d5ac-4d78-444b-a05f-b457a11b25a2"
      },
      "source": [
        "#Instanciando o Label Encoder na variável Label\n",
        "label = preprocessing.LabelEncoder()\n",
        "#Aplicando e transformando os valores categóricos da coluna em números.\n",
        "bh_df['binary'] = label.fit_transform(bh_df.binary.values)\n",
        "#P.s: Passou no teste = 1, Não passou no teste = 0.\n",
        "bh_df.head()"
      ],
      "execution_count": 399,
      "outputs": [
        {
          "output_type": "execute_result",
          "data": {
            "text/html": [
              "<div>\n",
              "<style scoped>\n",
              "    .dataframe tbody tr th:only-of-type {\n",
              "        vertical-align: middle;\n",
              "    }\n",
              "\n",
              "    .dataframe tbody tr th {\n",
              "        vertical-align: top;\n",
              "    }\n",
              "\n",
              "    .dataframe thead th {\n",
              "        text-align: right;\n",
              "    }\n",
              "</style>\n",
              "<table border=\"1\" class=\"dataframe\">\n",
              "  <thead>\n",
              "    <tr style=\"text-align: right;\">\n",
              "      <th></th>\n",
              "      <th>year</th>\n",
              "      <th>imdb</th>\n",
              "      <th>budget</th>\n",
              "      <th>domgross</th>\n",
              "      <th>intgross</th>\n",
              "      <th>code</th>\n",
              "      <th>budget_2013</th>\n",
              "      <th>domgross_2013</th>\n",
              "      <th>intgross_2013</th>\n",
              "      <th>binary</th>\n",
              "    </tr>\n",
              "  </thead>\n",
              "  <tbody>\n",
              "    <tr>\n",
              "      <th>1</th>\n",
              "      <td>1974</td>\n",
              "      <td>tt0071562</td>\n",
              "      <td>13000000</td>\n",
              "      <td>57300000</td>\n",
              "      <td>57300000</td>\n",
              "      <td>1974PASS</td>\n",
              "      <td>61408439</td>\n",
              "      <td>270669505</td>\n",
              "      <td>270669505</td>\n",
              "      <td>1</td>\n",
              "    </tr>\n",
              "    <tr>\n",
              "      <th>2</th>\n",
              "      <td>1982</td>\n",
              "      <td>tt0084516</td>\n",
              "      <td>10700000</td>\n",
              "      <td>74706019</td>\n",
              "      <td>121706019</td>\n",
              "      <td>1982PASS</td>\n",
              "      <td>25821968</td>\n",
              "      <td>180285645</td>\n",
              "      <td>293709241</td>\n",
              "      <td>1</td>\n",
              "    </tr>\n",
              "    <tr>\n",
              "      <th>3</th>\n",
              "      <td>2008</td>\n",
              "      <td>tt0800241</td>\n",
              "      <td>15000000</td>\n",
              "      <td>2203641</td>\n",
              "      <td>6379575</td>\n",
              "      <td>2008PASS</td>\n",
              "      <td>16233845</td>\n",
              "      <td>2384904</td>\n",
              "      <td>6904335</td>\n",
              "      <td>1</td>\n",
              "    </tr>\n",
              "    <tr>\n",
              "      <th>4</th>\n",
              "      <td>2011</td>\n",
              "      <td>tt1625346</td>\n",
              "      <td>12000000</td>\n",
              "      <td>16311571</td>\n",
              "      <td>22750356</td>\n",
              "      <td>2011PASS</td>\n",
              "      <td>12428289</td>\n",
              "      <td>16893744</td>\n",
              "      <td>23562334</td>\n",
              "      <td>1</td>\n",
              "    </tr>\n",
              "    <tr>\n",
              "      <th>5</th>\n",
              "      <td>2000</td>\n",
              "      <td>tt0190590</td>\n",
              "      <td>26000000</td>\n",
              "      <td>45506619</td>\n",
              "      <td>75763814</td>\n",
              "      <td>2000FAIL</td>\n",
              "      <td>35175618</td>\n",
              "      <td>61566286</td>\n",
              "      <td>102501499</td>\n",
              "      <td>0</td>\n",
              "    </tr>\n",
              "  </tbody>\n",
              "</table>\n",
              "</div>"
            ],
            "text/plain": [
              "0  year       imdb    budget  ... domgross_2013 intgross_2013 binary\n",
              "1  1974  tt0071562  13000000  ...     270669505     270669505      1\n",
              "2  1982  tt0084516  10700000  ...     180285645     293709241      1\n",
              "3  2008  tt0800241  15000000  ...       2384904       6904335      1\n",
              "4  2011  tt1625346  12000000  ...      16893744      23562334      1\n",
              "5  2000  tt0190590  26000000  ...      61566286     102501499      0\n",
              "\n",
              "[5 rows x 10 columns]"
            ]
          },
          "metadata": {
            "tags": []
          },
          "execution_count": 399
        }
      ]
    },
    {
      "cell_type": "markdown",
      "metadata": {
        "id": "Ji3MYwYjC6EN"
      },
      "source": [
        "##**i) Resumo dos dados e perguntas**"
      ]
    },
    {
      "cell_type": "markdown",
      "metadata": {
        "id": "mG76v5jCTOwQ"
      },
      "source": [
        "###**Primeira pergunta**\n",
        " Qual a porcentagem dos filmes que passaram no teste, baseado na definição binária?\n",
        "\n",
        "\n"
      ]
    },
    {
      "cell_type": "code",
      "metadata": {
        "colab": {
          "base_uri": "https://localhost:8080/"
        },
        "id": "mv4bBEWETEhs",
        "outputId": "7880169b-5447-40bf-b6d5-e512ecf660b5"
      },
      "source": [
        "#Para esta resposta, contaremos todos os valores da coluna e ativaremos o parâmetro \"normalize\", onde utiliza a porcentagem decimal das categorias numéricas.\n",
        "bh_df[\"binary\"].value_counts(normalize=True)"
      ],
      "execution_count": 400,
      "outputs": [
        {
          "output_type": "execute_result",
          "data": {
            "text/plain": [
              "0    0.552561\n",
              "1    0.447439\n",
              "Name: binary, dtype: float64"
            ]
          },
          "metadata": {
            "tags": []
          },
          "execution_count": 400
        }
      ]
    },
    {
      "cell_type": "markdown",
      "metadata": {
        "id": "EjLN69nLUdQU"
      },
      "source": [
        "Respondendo a primeira pergunta, a porcentagem dos filmes que passaram no teste de Bechdel é de **44.74%**, baseado na definição binária. Já os filmes reprovados é de **55.25%**."
      ]
    },
    {
      "cell_type": "markdown",
      "metadata": {
        "id": "IvQZ-37pVUgF"
      },
      "source": [
        "###**Segunda pergunta**\n",
        " Como a porcentagem de filmes que passaram mudaram com o tempo? \n",
        "\n"
      ]
    },
    {
      "cell_type": "code",
      "metadata": {
        "id": "1dbX1knGXMRV"
      },
      "source": [
        "#Já para esta resposta, criaremos uma tabela de contingência com o ano de cada filme e sua aprovação ou rejeição no teste\n",
        "tabela_ano = pd.crosstab(bh_df['year'], bh_df['binary'], margins=False)\n",
        "tabela_ano_porc = pd.crosstab(bh_df['year'], bh_df['binary'], margins=False, normalize='index')"
      ],
      "execution_count": 401,
      "outputs": []
    },
    {
      "cell_type": "code",
      "metadata": {
        "colab": {
          "base_uri": "https://localhost:8080/",
          "height": 0
        },
        "id": "BN35QL7ReOxa",
        "outputId": "5ae840aa-a92c-4d41-8880-8a2e934c190c"
      },
      "source": [
        "tabela_ano_porc.head()"
      ],
      "execution_count": 402,
      "outputs": [
        {
          "output_type": "execute_result",
          "data": {
            "text/html": [
              "<div>\n",
              "<style scoped>\n",
              "    .dataframe tbody tr th:only-of-type {\n",
              "        vertical-align: middle;\n",
              "    }\n",
              "\n",
              "    .dataframe tbody tr th {\n",
              "        vertical-align: top;\n",
              "    }\n",
              "\n",
              "    .dataframe thead th {\n",
              "        text-align: right;\n",
              "    }\n",
              "</style>\n",
              "<table border=\"1\" class=\"dataframe\">\n",
              "  <thead>\n",
              "    <tr style=\"text-align: right;\">\n",
              "      <th>binary</th>\n",
              "      <th>0</th>\n",
              "      <th>1</th>\n",
              "    </tr>\n",
              "    <tr>\n",
              "      <th>year</th>\n",
              "      <th></th>\n",
              "      <th></th>\n",
              "    </tr>\n",
              "  </thead>\n",
              "  <tbody>\n",
              "    <tr>\n",
              "      <th>1970</th>\n",
              "      <td>0.000000</td>\n",
              "      <td>1.000000</td>\n",
              "    </tr>\n",
              "    <tr>\n",
              "      <th>1971</th>\n",
              "      <td>1.000000</td>\n",
              "      <td>0.000000</td>\n",
              "    </tr>\n",
              "    <tr>\n",
              "      <th>1972</th>\n",
              "      <td>0.500000</td>\n",
              "      <td>0.500000</td>\n",
              "    </tr>\n",
              "    <tr>\n",
              "      <th>1973</th>\n",
              "      <td>0.800000</td>\n",
              "      <td>0.200000</td>\n",
              "    </tr>\n",
              "    <tr>\n",
              "      <th>1974</th>\n",
              "      <td>0.666667</td>\n",
              "      <td>0.333333</td>\n",
              "    </tr>\n",
              "  </tbody>\n",
              "</table>\n",
              "</div>"
            ],
            "text/plain": [
              "binary         0         1\n",
              "year                      \n",
              "1970    0.000000  1.000000\n",
              "1971    1.000000  0.000000\n",
              "1972    0.500000  0.500000\n",
              "1973    0.800000  0.200000\n",
              "1974    0.666667  0.333333"
            ]
          },
          "metadata": {
            "tags": []
          },
          "execution_count": 402
        }
      ]
    },
    {
      "cell_type": "markdown",
      "metadata": {
        "id": "_5fHkFxvUQ3_"
      },
      "source": [
        "Como uma tabela de contingência, se torna algo muito extenso e nada intuitivo. Com dados extensos classificados assim por ano se torna interessante a aplicação de um Histograma para a visualização de dados. A biblioteca *plotly.express* é de boa utilidade pela documentação gráfica e interativa, pois temos duas classificações no eixo y (Teste Binário = 0 e 1)."
      ]
    },
    {
      "cell_type": "code",
      "metadata": {
        "colab": {
          "base_uri": "https://localhost:8080/",
          "height": 0
        },
        "id": "oZuRDDc_cOZO",
        "outputId": "fcf93b3b-f995-42f9-afc8-e646eca4d7bf"
      },
      "source": [
        "#Instanciaremos a função px.histogram em \"fig\" e utilizando as funções para update a figura, será mudado título, legendas e eixos.\n",
        "fig = px.histogram(bh_df, x=\"year\", color=\"binary\", title=\"Gráfico de Barras Interativo - Classificação do Teste Binário entre os anos 1970-2013\",\n",
        "                   labels={\"year\": \"Ano\", \"binary\":\"Teste Binário\"}).update_xaxes(categoryorder=\"total descending\")\n",
        "fig.update_xaxes(title_text=\"Anos\")\n",
        "fig.update_yaxes(title_text=\"Quantidade de filmes\")\n",
        "fig.show()"
      ],
      "execution_count": 403,
      "outputs": [
        {
          "output_type": "display_data",
          "data": {
            "text/html": [
              "<html>\n",
              "<head><meta charset=\"utf-8\" /></head>\n",
              "<body>\n",
              "    <div>\n",
              "            <script src=\"https://cdnjs.cloudflare.com/ajax/libs/mathjax/2.7.5/MathJax.js?config=TeX-AMS-MML_SVG\"></script><script type=\"text/javascript\">if (window.MathJax) {MathJax.Hub.Config({SVG: {font: \"STIX-Web\"}});}</script>\n",
              "                <script type=\"text/javascript\">window.PlotlyConfig = {MathJaxConfig: 'local'};</script>\n",
              "        <script src=\"https://cdn.plot.ly/plotly-latest.min.js\"></script>    \n",
              "            <div id=\"f2a3cdb7-192c-4bce-8259-9ec5237ea0d7\" class=\"plotly-graph-div\" style=\"height:525px; width:100%;\"></div>\n",
              "            <script type=\"text/javascript\">\n",
              "                \n",
              "                    window.PLOTLYENV=window.PLOTLYENV || {};\n",
              "                    \n",
              "                if (document.getElementById(\"f2a3cdb7-192c-4bce-8259-9ec5237ea0d7\")) {\n",
              "                    Plotly.newPlot(\n",
              "                        'f2a3cdb7-192c-4bce-8259-9ec5237ea0d7',\n",
              "                        [{\"alignmentgroup\": \"True\", \"bingroup\": \"x\", \"hoverlabel\": {\"namelength\": 0}, \"hovertemplate\": \"Teste Bin\\u00e1rio=1<br>Ano=%{x}<br>count=%{y}\", \"legendgroup\": \"Teste Bin\\u00e1rio=1\", \"marker\": {\"color\": \"#636efa\"}, \"name\": \"Teste Bin\\u00e1rio=1\", \"offsetgroup\": \"Teste Bin\\u00e1rio=1\", \"orientation\": \"v\", \"showlegend\": true, \"type\": \"histogram\", \"x\": [1974, 1982, 2008, 2011, 2007, 2005, 2002, 1985, 1991, 1993, 2002, 1979, 2010, 2001, 1997, 1998, 2011, 2012, 2012, 2013, 2002, 2009, 2004, 1996, 2007, 2012, 1993, 2002, 2011, 2012, 2002, 2009, 2003, 1982, 2000, 2005, 2008, 2011, 2010, 2006, 1994, 2011, 2004, 2008, 2003, 2009, 2006, 2009, 1997, 2010, 2006, 2002, 1988, 2006, 2005, 1992, 2004, 2007, 2007, 2012, 1995, 2002, 2002, 2011, 2010, 2003, 1995, 2011, 2010, 2006, 1970, 1989, 2006, 2005, 2004, 2006, 2011, 2011, 1997, 2010, 2003, 2010, 2012, 1990, 2010, 2009, 2007, 2013, 1999, 2004, 2009, 2004, 2006, 2002, 2001, 2002, 2012, 1998, 2013, 2013, 2013, 2000, 2010, 2000, 2009, 2003, 2013, 1980, 2010, 1995, 2009, 2009, 2010, 2010, 2012, 1996, 2001, 2005, 2000, 2003, 2003, 2005, 2003, 2003, 2008, 1977, 2001, 1995, 1995, 2011, 2004, 2013, 2010, 2002, 2004, 2003, 1976, 2010, 1985, 2007, 2011, 2010, 2008, 1983, 2008, 1988, 1984, 2007, 2005, 2002, 1993, 1993, 2011, 2000, 2002, 2000, 2010, 2012, 2005, 2005, 2012, 2010, 1998, 2007, 2008, 1999, 1991, 2006, 1999, 2002, 2013, 1998, 2011, 2000, 2009, 2004, 1996, 2009, 2010, 2008, 2002, 2001, 2012, 2007, 2004, 2002, 2003, 2010, 2010, 2006, 1989, 2008, 2002, 1999, 2013, 1997, 1997, 2011, 1999, 2009, 2012, 2008, 2002, 2003, 1997, 2003, 1997, 2007, 2001, 2007, 1988, 2013, 1978, 2008, 1998, 1999, 1998, 2005, 1999, 1981, 2009, 2008, 2011, 2010, 2013, 2004, 2011, 1990, 2006, 2008, 1997, 2005, 2007, 1988, 2005, 2004, 2001, 2003, 2007, 2006, 1976, 1997, 1999, 2013, 2010, 2011, 2005, 1987, 2005, 2005, 2003, 2012, 2001, 2011, 2011, 2001, 1996, 1980, 2010, 2001, 1996, 2005, 2010, 2005, 2009, 2004, 2008, 2000, 1994, 2008, 1992, 2007, 2010, 2012, 2009, 1998, 2001, 2010, 2002, 2008, 2005, 2005, 2012, 1998, 1979, 2001, 1999, 2011, 1995, 1999, 2011, 2003, 2001, 2012, 2003, 2003, 2004, 1987, 2004, 2006, 2013, 1998, 2010, 2005, 2006, 2004, 2004, 2010, 2010, 2002, 2007, 1999, 2009, 2012, 2013, 2002, 2009, 2006, 2011, 2005, 2001, 2008, 2000, 2000, 2011, 2010, 1997, 2010, 2006, 2010, 2011, 2009, 2003, 1999, 2013, 2008, 1993, 1995, 2002, 2005, 2011, 2007, 2009, 2008, 1998, 1988, 1997, 2012, 2008, 2010, 1997, 2012, 2011, 2011, 2003, 2000, 1994, 2011, 1980, 1985, 2009, 2010, 1996, 2008, 2007, 1997, 2005, 2009, 1998, 2012, 1998, 2005, 2005, 2004, 2007, 1974, 2012, 2010, 2010, 2006, 2004, 2012, 2011, 2011, 2013, 1986, 2012, 2007, 2010, 2009, 2007, 2002, 2008, 1999, 2008, 2005, 2003, 2002, 2009, 2006, 2004, 2000, 2009, 2013, 2004, 1995, 2006, 2013, 2006, 2005, 2005, 2001, 2013, 2011, 2004, 1989, 1999, 2010, 2009, 2004, 2007, 2011, 2009, 1991, 1996, 1999, 2005, 2012, 2004, 1991, 2003, 2008, 2011, 2004, 2007, 2001, 1996, 2010, 2006, 1997, 2009, 2001, 2011, 2004, 2008, 2006, 2004, 2000, 1994, 1999, 2007, 2011, 2005, 2006, 1994, 1998, 2003, 2007, 2013, 2006, 2003, 2010, 1999, 2011, 2013, 1996, 2008, 2011, 1992, 2001, 2003, 1972, 1990, 2012, 2007, 1988, 2001, 2006, 1997, 2001, 2013, 2001, 1998, 2002, 2008, 2000, 2013, 2009, 2001, 2009, 2011, 1998, 1996, 2004, 2004, 1995, 2007, 1999, 2013, 1997, 1984, 2000, 2009, 2005, 1997, 1996, 1998, 2001, 2013, 1984, 1977, 2006, 2007, 1995, 2010, 2000, 2007, 2000, 2011, 2001, 2001, 2012, 2011, 2010, 2009, 1998, 2002, 1999, 2004, 2001, 2008, 2012, 2006, 2002, 2010, 2000, 2013, 2004, 2008, 1993, 2003, 2005, 2011, 1991, 2005, 2005, 2003, 2002, 1995, 2013, 1996, 2005, 2009, 2012, 2010, 2005, 2002, 2009, 2012, 2004, 2008, 1982, 2002, 2008, 2005, 2013, 2010, 2000, 1973, 1995, 2000, 2003, 1997, 2013, 1983, 2013, 1999, 2007, 2007, 1996, 2007, 2009, 1997, 2005, 2013, 2008, 2004, 2012, 1995, 1999, 2005, 2000, 2007, 2001, 1989, 2013, 2008, 1995, 1986, 1996, 2005, 1988, 2010, 2010, 2005, 1998, 2008, 2006, 1996, 2012, 2008, 2008, 2005, 2004, 2005, 2006, 2011, 2008, 2013, 2013, 2005, 2010, 1997, 2012, 1997, 1998, 2001, 2008, 2008, 1994, 1994, 1997, 1988, 2004, 2007, 2009, 2003, 1990, 2003, 2002, 2011, 2005, 2007, 2013, 1997, 2013, 2003, 2006, 2011, 2008, 2006, 1988, 2006, 2004, 2008, 2008, 1995, 2013, 1995, 2003, 2000, 2005, 2002, 1978], \"xaxis\": \"x\", \"yaxis\": \"y\"}, {\"alignmentgroup\": \"True\", \"bingroup\": \"x\", \"hoverlabel\": {\"namelength\": 0}, \"hovertemplate\": \"Teste Bin\\u00e1rio=0<br>Ano=%{x}<br>count=%{y}\", \"legendgroup\": \"Teste Bin\\u00e1rio=0\", \"marker\": {\"color\": \"#EF553B\"}, \"name\": \"Teste Bin\\u00e1rio=0\", \"offsetgroup\": \"Teste Bin\\u00e1rio=0\", \"orientation\": \"v\", \"showlegend\": true, \"type\": \"histogram\", \"x\": [2000, 2009, 2009, 1978, 1999, 2005, 2008, 1971, 1990, 2005, 2007, 1985, 1983, 2000, 2013, 2005, 1996, 2009, 1995, 1992, 2009, 2004, 2007, 2011, 2001, 2006, 2013, 2008, 2004, 2008, 2004, 1998, 2008, 2001, 2011, 2012, 1999, 1981, 2002, 1988, 1973, 2005, 1979, 2009, 2006, 2010, 2010, 1997, 1998, 2010, 2013, 2009, 2011, 2004, 2008, 2009, 1987, 1993, 2011, 2009, 2004, 2009, 2012, 2008, 2010, 1994, 2013, 2000, 1990, 2000, 2008, 2006, 2007, 2009, 2001, 2012, 1971, 2010, 2012, 1982, 1985, 1981, 1993, 2002, 2009, 2009, 1995, 2011, 2012, 2008, 2006, 1995, 2004, 1999, 2012, 2008, 2012, 1981, 2004, 2002, 2008, 1997, 1999, 1975, 2006, 2013, 1996, 2002, 2004, 2009, 1987, 2002, 2000, 2009, 1997, 2010, 2011, 1995, 2000, 2011, 2005, 2000, 1999, 2010, 1984, 1977, 2001, 2000, 2005, 2003, 1983, 2010, 1998, 1975, 2000, 2010, 2003, 2010, 1992, 2005, 2013, 2006, 1999, 1988, 1997, 2000, 2008, 2012, 2013, 2013, 2011, 2009, 2013, 1982, 2008, 2011, 2011, 1971, 2012, 1976, 1995, 2004, 2000, 2013, 2011, 2009, 2009, 2006, 2009, 1986, 2011, 2005, 2013, 2001, 2011, 2012, 2012, 2005, 1998, 2005, 1987, 1982, 2007, 2009, 1998, 2009, 1987, 2002, 2007, 2011, 2007, 2013, 1981, 2002, 1987, 2007, 2006, 1998, 2011, 2013, 1978, 2009, 1991, 2008, 2009, 2013, 2002, 1997, 2011, 2011, 2003, 2005, 2012, 2010, 2006, 1996, 2007, 2002, 2010, 1999, 2002, 2010, 2002, 2013, 2010, 2000, 2009, 2009, 2010, 1991, 2013, 2009, 2013, 2002, 1987, 1991, 2003, 2009, 1997, 1997, 2005, 2009, 2003, 1994, 2010, 1986, 2007, 2013, 1992, 1992, 2008, 1974, 2011, 1995, 2009, 2007, 1998, 1995, 2006, 2009, 1990, 1977, 2012, 1995, 2013, 1975, 1994, 2005, 2003, 2010, 2006, 1998, 2004, 1993, 2000, 2009, 1999, 1988, 1997, 2005, 1999, 1986, 2008, 2008, 2013, 2001, 2005, 2006, 2010, 1991, 1989, 2002, 1974, 1998, 2003, 1986, 2000, 1999, 2006, 2009, 1999, 2011, 1997, 2007, 2011, 2003, 1975, 2010, 2009, 2008, 2006, 2005, 2004, 2011, 1997, 1994, 2001, 2011, 2012, 2010, 1988, 2008, 2006, 2013, 2012, 1996, 2003, 1989, 2004, 2012, 2011, 2007, 2010, 2008, 1995, 2010, 2003, 2010, 2011, 2004, 2004, 2001, 2013, 2000, 2011, 2000, 2009, 1990, 2009, 2011, 2008, 2000, 2001, 2012, 1996, 2012, 2009, 2008, 2009, 2012, 2012, 2001, 2004, 1999, 1989, 2012, 1994, 2005, 2013, 2004, 1996, 1989, 1979, 2005, 1994, 2010, 2011, 2008, 2011, 1996, 1997, 1993, 1992, 2003, 2010, 2002, 1994, 1973, 2006, 1982, 1996, 2006, 1996, 1999, 1998, 1998, 1999, 2009, 1999, 2002, 2007, 2011, 2001, 1996, 2007, 2013, 2002, 1998, 2006, 2000, 1978, 1999, 1988, 1987, 1984, 2005, 2013, 2001, 2011, 2005, 1993, 2005, 2011, 2005, 2010, 2000, 1995, 1999, 1976, 2010, 1998, 1998, 2012, 1998, 2013, 2009, 2013, 2009, 2000, 2009, 2009, 2005, 2011, 2006, 2002, 1994, 1992, 2012, 2012, 2012, 2012, 1996, 1988, 2008, 2011, 2012, 2007, 2010, 2009, 2003, 2006, 2009, 2001, 2008, 2004, 1998, 2009, 2009, 2013, 1999, 2006, 2003, 1974, 2008, 2004, 2002, 2003, 2008, 1990, 2000, 1994, 2007, 1995, 1992, 2007, 2009, 1984, 2005, 2006, 2006, 2012, 1976, 2006, 2005, 1978, 1998, 2004, 2010, 1999, 1999, 2011, 2008, 2009, 2012, 2009, 2009, 2013, 1992, 2000, 2008, 2008, 2002, 2008, 1999, 1986, 2001, 2010, 2009, 2001, 2011, 2001, 2002, 2004, 2011, 2011, 2010, 1986, 2010, 2013, 2009, 1998, 1997, 2012, 2004, 1972, 1994, 2008, 2008, 2010, 1984, 1992, 2010, 2011, 2011, 1988, 2010, 2009, 2010, 2009, 2009, 2003, 1977, 2012, 2005, 1989, 1980, 1971, 2001, 2003, 2011, 2010, 2003, 2000, 2010, 2013, 2004, 2011, 1987, 2006, 2002, 2003, 2010, 2011, 2010, 2000, 1995, 1988, 1980, 2013, 1998, 2006, 2010, 2010, 1985, 2013, 1995, 1999, 2011, 2006, 1996, 1997, 1984, 2005, 2005, 2012, 2009, 2005, 2009, 2010, 2003, 1976, 1997, 2010, 2004, 2007, 2012, 2010, 2001, 2013, 1999, 1997, 2012, 2008, 2002, 2013, 2006, 2004, 2010, 2011, 1980, 1998, 2013, 2011, 1978, 2007, 1989, 2007, 2011, 2009, 2005, 1984, 1994, 2008, 2008, 2002, 1994, 1984, 1974, 2006, 2009, 2006, 2003, 1996, 1989, 2005, 2007, 1982, 1989, 2010, 2009, 2002, 1996, 1999, 1995, 2002, 2009, 1997, 2003, 2001, 1997, 2012, 1996, 1973, 2004, 2007, 1999, 2004, 2002, 1980, 1982, 2009, 2005, 2002, 2012, 2004, 2005, 1999, 1994, 1984, 1998, 2010, 1992, 1996, 1981, 1999, 2011, 1999, 2009, 2011, 2002, 1995, 1998, 2012, 2011, 2011, 2011, 1984, 2001, 1980, 2001, 1999, 2000, 2003, 2009, 2010, 1996, 2007, 2009, 2004, 2005, 2006, 2011, 2009, 2003, 1978, 1984, 2002, 2006, 1996, 1991, 2006, 1991, 1977, 2002, 1991, 2010, 1980, 2011, 2003, 2008, 2000, 1973, 2002, 2000, 1993, 2011, 2004, 2006, 2002, 1998, 2012, 2000, 2010, 2011, 2009, 2003, 2002, 1996, 1999, 1988, 2011, 2005, 2013, 2008, 2004, 2010, 2000, 1999, 2005, 2012, 1985, 2007, 2006, 2009, 2002, 2006, 2009, 2009, 2007, 2011, 1984, 2011, 2005, 1992, 1987, 2009, 2002, 1998, 2010, 2002, 2011, 2010, 1993, 2001, 1998, 2008, 1977, 2007, 2011, 2009, 2000, 2013, 2008, 1988, 2009, 2000, 2004, 2011, 2006, 2007, 2013, 1998, 1996, 2013, 1994, 2008, 2010, 2001, 1997, 2005, 1998, 2001, 2010, 1994, 2013, 1997, 1998, 2006, 2005, 1998], \"xaxis\": \"x\", \"yaxis\": \"y\"}],\n",
              "                        {\"barmode\": \"relative\", \"legend\": {\"tracegroupgap\": 0}, \"template\": {\"data\": {\"bar\": [{\"error_x\": {\"color\": \"#2a3f5f\"}, \"error_y\": {\"color\": \"#2a3f5f\"}, \"marker\": {\"line\": {\"color\": \"#E5ECF6\", \"width\": 0.5}}, \"type\": \"bar\"}], \"barpolar\": [{\"marker\": {\"line\": {\"color\": \"#E5ECF6\", \"width\": 0.5}}, \"type\": \"barpolar\"}], \"carpet\": [{\"aaxis\": {\"endlinecolor\": \"#2a3f5f\", \"gridcolor\": \"white\", \"linecolor\": \"white\", \"minorgridcolor\": \"white\", \"startlinecolor\": \"#2a3f5f\"}, \"baxis\": {\"endlinecolor\": \"#2a3f5f\", \"gridcolor\": \"white\", \"linecolor\": \"white\", \"minorgridcolor\": \"white\", \"startlinecolor\": \"#2a3f5f\"}, \"type\": \"carpet\"}], \"choropleth\": [{\"colorbar\": {\"outlinewidth\": 0, \"ticks\": \"\"}, \"type\": \"choropleth\"}], \"contour\": [{\"colorbar\": {\"outlinewidth\": 0, \"ticks\": \"\"}, \"colorscale\": [[0.0, \"#0d0887\"], [0.1111111111111111, \"#46039f\"], [0.2222222222222222, \"#7201a8\"], [0.3333333333333333, \"#9c179e\"], [0.4444444444444444, \"#bd3786\"], [0.5555555555555556, \"#d8576b\"], [0.6666666666666666, \"#ed7953\"], [0.7777777777777778, \"#fb9f3a\"], [0.8888888888888888, \"#fdca26\"], [1.0, \"#f0f921\"]], \"type\": \"contour\"}], \"contourcarpet\": [{\"colorbar\": {\"outlinewidth\": 0, \"ticks\": \"\"}, \"type\": \"contourcarpet\"}], \"heatmap\": [{\"colorbar\": {\"outlinewidth\": 0, \"ticks\": \"\"}, \"colorscale\": [[0.0, \"#0d0887\"], [0.1111111111111111, \"#46039f\"], [0.2222222222222222, \"#7201a8\"], [0.3333333333333333, \"#9c179e\"], [0.4444444444444444, \"#bd3786\"], [0.5555555555555556, \"#d8576b\"], [0.6666666666666666, \"#ed7953\"], [0.7777777777777778, \"#fb9f3a\"], [0.8888888888888888, \"#fdca26\"], [1.0, \"#f0f921\"]], \"type\": \"heatmap\"}], \"heatmapgl\": [{\"colorbar\": {\"outlinewidth\": 0, \"ticks\": \"\"}, \"colorscale\": [[0.0, \"#0d0887\"], [0.1111111111111111, \"#46039f\"], [0.2222222222222222, \"#7201a8\"], [0.3333333333333333, \"#9c179e\"], [0.4444444444444444, \"#bd3786\"], [0.5555555555555556, \"#d8576b\"], [0.6666666666666666, \"#ed7953\"], [0.7777777777777778, \"#fb9f3a\"], [0.8888888888888888, \"#fdca26\"], [1.0, \"#f0f921\"]], \"type\": \"heatmapgl\"}], \"histogram\": [{\"marker\": {\"colorbar\": {\"outlinewidth\": 0, \"ticks\": \"\"}}, \"type\": \"histogram\"}], \"histogram2d\": [{\"colorbar\": {\"outlinewidth\": 0, \"ticks\": \"\"}, \"colorscale\": [[0.0, \"#0d0887\"], [0.1111111111111111, \"#46039f\"], [0.2222222222222222, \"#7201a8\"], [0.3333333333333333, \"#9c179e\"], [0.4444444444444444, \"#bd3786\"], [0.5555555555555556, \"#d8576b\"], [0.6666666666666666, \"#ed7953\"], [0.7777777777777778, \"#fb9f3a\"], [0.8888888888888888, \"#fdca26\"], [1.0, \"#f0f921\"]], \"type\": \"histogram2d\"}], \"histogram2dcontour\": [{\"colorbar\": {\"outlinewidth\": 0, \"ticks\": \"\"}, \"colorscale\": [[0.0, \"#0d0887\"], [0.1111111111111111, \"#46039f\"], [0.2222222222222222, \"#7201a8\"], [0.3333333333333333, \"#9c179e\"], [0.4444444444444444, \"#bd3786\"], [0.5555555555555556, \"#d8576b\"], [0.6666666666666666, \"#ed7953\"], [0.7777777777777778, \"#fb9f3a\"], [0.8888888888888888, \"#fdca26\"], [1.0, \"#f0f921\"]], \"type\": \"histogram2dcontour\"}], \"mesh3d\": [{\"colorbar\": {\"outlinewidth\": 0, \"ticks\": \"\"}, \"type\": \"mesh3d\"}], \"parcoords\": [{\"line\": {\"colorbar\": {\"outlinewidth\": 0, \"ticks\": \"\"}}, \"type\": \"parcoords\"}], \"pie\": [{\"automargin\": true, \"type\": \"pie\"}], \"scatter\": [{\"marker\": {\"colorbar\": {\"outlinewidth\": 0, \"ticks\": \"\"}}, \"type\": \"scatter\"}], \"scatter3d\": [{\"line\": {\"colorbar\": {\"outlinewidth\": 0, \"ticks\": \"\"}}, \"marker\": {\"colorbar\": {\"outlinewidth\": 0, \"ticks\": \"\"}}, \"type\": \"scatter3d\"}], \"scattercarpet\": [{\"marker\": {\"colorbar\": {\"outlinewidth\": 0, \"ticks\": \"\"}}, \"type\": \"scattercarpet\"}], \"scattergeo\": [{\"marker\": {\"colorbar\": {\"outlinewidth\": 0, \"ticks\": \"\"}}, \"type\": \"scattergeo\"}], \"scattergl\": [{\"marker\": {\"colorbar\": {\"outlinewidth\": 0, \"ticks\": \"\"}}, \"type\": \"scattergl\"}], \"scattermapbox\": [{\"marker\": {\"colorbar\": {\"outlinewidth\": 0, \"ticks\": \"\"}}, \"type\": \"scattermapbox\"}], \"scatterpolar\": [{\"marker\": {\"colorbar\": {\"outlinewidth\": 0, \"ticks\": \"\"}}, \"type\": \"scatterpolar\"}], \"scatterpolargl\": [{\"marker\": {\"colorbar\": {\"outlinewidth\": 0, \"ticks\": \"\"}}, \"type\": \"scatterpolargl\"}], \"scatterternary\": [{\"marker\": {\"colorbar\": {\"outlinewidth\": 0, \"ticks\": \"\"}}, \"type\": \"scatterternary\"}], \"surface\": [{\"colorbar\": {\"outlinewidth\": 0, \"ticks\": \"\"}, \"colorscale\": [[0.0, \"#0d0887\"], [0.1111111111111111, \"#46039f\"], [0.2222222222222222, \"#7201a8\"], [0.3333333333333333, \"#9c179e\"], [0.4444444444444444, \"#bd3786\"], [0.5555555555555556, \"#d8576b\"], [0.6666666666666666, \"#ed7953\"], [0.7777777777777778, \"#fb9f3a\"], [0.8888888888888888, \"#fdca26\"], [1.0, \"#f0f921\"]], \"type\": \"surface\"}], \"table\": [{\"cells\": {\"fill\": {\"color\": \"#EBF0F8\"}, \"line\": {\"color\": \"white\"}}, \"header\": {\"fill\": {\"color\": \"#C8D4E3\"}, \"line\": {\"color\": \"white\"}}, \"type\": \"table\"}]}, \"layout\": {\"annotationdefaults\": {\"arrowcolor\": \"#2a3f5f\", \"arrowhead\": 0, \"arrowwidth\": 1}, \"coloraxis\": {\"colorbar\": {\"outlinewidth\": 0, \"ticks\": \"\"}}, \"colorscale\": {\"diverging\": [[0, \"#8e0152\"], [0.1, \"#c51b7d\"], [0.2, \"#de77ae\"], [0.3, \"#f1b6da\"], [0.4, \"#fde0ef\"], [0.5, \"#f7f7f7\"], [0.6, \"#e6f5d0\"], [0.7, \"#b8e186\"], [0.8, \"#7fbc41\"], [0.9, \"#4d9221\"], [1, \"#276419\"]], \"sequential\": [[0.0, \"#0d0887\"], [0.1111111111111111, \"#46039f\"], [0.2222222222222222, \"#7201a8\"], [0.3333333333333333, \"#9c179e\"], [0.4444444444444444, \"#bd3786\"], [0.5555555555555556, \"#d8576b\"], [0.6666666666666666, \"#ed7953\"], [0.7777777777777778, \"#fb9f3a\"], [0.8888888888888888, \"#fdca26\"], [1.0, \"#f0f921\"]], \"sequentialminus\": [[0.0, \"#0d0887\"], [0.1111111111111111, \"#46039f\"], [0.2222222222222222, \"#7201a8\"], [0.3333333333333333, \"#9c179e\"], [0.4444444444444444, \"#bd3786\"], [0.5555555555555556, \"#d8576b\"], [0.6666666666666666, \"#ed7953\"], [0.7777777777777778, \"#fb9f3a\"], [0.8888888888888888, \"#fdca26\"], [1.0, \"#f0f921\"]]}, \"colorway\": [\"#636efa\", \"#EF553B\", \"#00cc96\", \"#ab63fa\", \"#FFA15A\", \"#19d3f3\", \"#FF6692\", \"#B6E880\", \"#FF97FF\", \"#FECB52\"], \"font\": {\"color\": \"#2a3f5f\"}, \"geo\": {\"bgcolor\": \"white\", \"lakecolor\": \"white\", \"landcolor\": \"#E5ECF6\", \"showlakes\": true, \"showland\": true, \"subunitcolor\": \"white\"}, \"hoverlabel\": {\"align\": \"left\"}, \"hovermode\": \"closest\", \"mapbox\": {\"style\": \"light\"}, \"paper_bgcolor\": \"white\", \"plot_bgcolor\": \"#E5ECF6\", \"polar\": {\"angularaxis\": {\"gridcolor\": \"white\", \"linecolor\": \"white\", \"ticks\": \"\"}, \"bgcolor\": \"#E5ECF6\", \"radialaxis\": {\"gridcolor\": \"white\", \"linecolor\": \"white\", \"ticks\": \"\"}}, \"scene\": {\"xaxis\": {\"backgroundcolor\": \"#E5ECF6\", \"gridcolor\": \"white\", \"gridwidth\": 2, \"linecolor\": \"white\", \"showbackground\": true, \"ticks\": \"\", \"zerolinecolor\": \"white\"}, \"yaxis\": {\"backgroundcolor\": \"#E5ECF6\", \"gridcolor\": \"white\", \"gridwidth\": 2, \"linecolor\": \"white\", \"showbackground\": true, \"ticks\": \"\", \"zerolinecolor\": \"white\"}, \"zaxis\": {\"backgroundcolor\": \"#E5ECF6\", \"gridcolor\": \"white\", \"gridwidth\": 2, \"linecolor\": \"white\", \"showbackground\": true, \"ticks\": \"\", \"zerolinecolor\": \"white\"}}, \"shapedefaults\": {\"line\": {\"color\": \"#2a3f5f\"}}, \"ternary\": {\"aaxis\": {\"gridcolor\": \"white\", \"linecolor\": \"white\", \"ticks\": \"\"}, \"baxis\": {\"gridcolor\": \"white\", \"linecolor\": \"white\", \"ticks\": \"\"}, \"bgcolor\": \"#E5ECF6\", \"caxis\": {\"gridcolor\": \"white\", \"linecolor\": \"white\", \"ticks\": \"\"}}, \"title\": {\"x\": 0.05}, \"xaxis\": {\"automargin\": true, \"gridcolor\": \"white\", \"linecolor\": \"white\", \"ticks\": \"\", \"title\": {\"standoff\": 15}, \"zerolinecolor\": \"white\", \"zerolinewidth\": 2}, \"yaxis\": {\"automargin\": true, \"gridcolor\": \"white\", \"linecolor\": \"white\", \"ticks\": \"\", \"title\": {\"standoff\": 15}, \"zerolinecolor\": \"white\", \"zerolinewidth\": 2}}}, \"title\": {\"text\": \"Gr\\u00e1fico de Barras Interativo - Classifica\\u00e7\\u00e3o do Teste Bin\\u00e1rio entre os anos 1970-2013\"}, \"xaxis\": {\"anchor\": \"y\", \"categoryorder\": \"total descending\", \"domain\": [0.0, 1.0], \"title\": {\"text\": \"Anos\"}}, \"yaxis\": {\"anchor\": \"x\", \"domain\": [0.0, 1.0], \"title\": {\"text\": \"Quantidade de filmes\"}}},\n",
              "                        {\"responsive\": true}\n",
              "                    ).then(function(){\n",
              "                            \n",
              "var gd = document.getElementById('f2a3cdb7-192c-4bce-8259-9ec5237ea0d7');\n",
              "var x = new MutationObserver(function (mutations, observer) {{\n",
              "        var display = window.getComputedStyle(gd).display;\n",
              "        if (!display || display === 'none') {{\n",
              "            console.log([gd, 'removed!']);\n",
              "            Plotly.purge(gd);\n",
              "            observer.disconnect();\n",
              "        }}\n",
              "}});\n",
              "\n",
              "// Listen for the removal of the full notebook cells\n",
              "var notebookContainer = gd.closest('#notebook-container');\n",
              "if (notebookContainer) {{\n",
              "    x.observe(notebookContainer, {childList: true});\n",
              "}}\n",
              "\n",
              "// Listen for the clearing of the current output cell\n",
              "var outputEl = gd.closest('.output');\n",
              "if (outputEl) {{\n",
              "    x.observe(outputEl, {childList: true});\n",
              "}}\n",
              "\n",
              "                        })\n",
              "                };\n",
              "                \n",
              "            </script>\n",
              "        </div>\n",
              "</body>\n",
              "</html>"
            ]
          },
          "metadata": {
            "tags": []
          }
        }
      ]
    },
    {
      "cell_type": "markdown",
      "metadata": {
        "id": "C_0JF0G9WDoP"
      },
      "source": [
        "Como é possível observar, entre as décadas de 1970 até 1990 o Teste de Bechdel era realmente de frequência bem baixa de se passar, onde somente em 1988 houve um significativa relevância de 47,3%.\n",
        "\n",
        " Já a partir de 1995, houve um provável movimento cultural a favor de filmes sem personagens mulheres onde só havia interação quando o assunto era homens, com o crescimento representando 51,6% da cota de filmes anualmente.\n",
        " \n",
        "Onde a era de acréscimo de obras ficcionais serem aprovadas no teste foi entre 1995 até 2004. A partir disso, a maioria dos filmes se manteve maioria falha no teste."
      ]
    },
    {
      "cell_type": "markdown",
      "metadata": {
        "id": "RTPQaQR-C2PS"
      },
      "source": [
        "##**ii) Propor modelo para previsão**"
      ]
    },
    {
      "cell_type": "markdown",
      "metadata": {
        "id": "tmPPNIVgDucH"
      },
      "source": [
        "Para a criação de um modelo de previsão, é importante a formatação dos banco de dados de treino*(\"bechdel.xlsx\")* e o de teste*(\"teste.csv\")*. Com isso como primeira modificação é a retirada de colunas não importantes para a modelação no banco de dados com os testes binários.\n"
      ]
    },
    {
      "cell_type": "markdown",
      "metadata": {
        "id": "0lk0LHxdEWXP"
      },
      "source": [
        "###**Primeira modificação**\n",
        "\n",
        "Selecionar somente as colunas influentes para o modelo, modificando os tipos de variáveis para cada correspondente e indexando a coluna **\"imdb\"**.\n"
      ]
    },
    {
      "cell_type": "code",
      "metadata": {
        "colab": {
          "base_uri": "https://localhost:8080/",
          "height": 80
        },
        "id": "HbUwRvoGNm8o",
        "outputId": "2ea6bea6-72cd-47b3-c3cf-a4d1e6082862"
      },
      "source": [
        "bh_df.head(1)"
      ],
      "execution_count": 404,
      "outputs": [
        {
          "output_type": "execute_result",
          "data": {
            "text/html": [
              "<div>\n",
              "<style scoped>\n",
              "    .dataframe tbody tr th:only-of-type {\n",
              "        vertical-align: middle;\n",
              "    }\n",
              "\n",
              "    .dataframe tbody tr th {\n",
              "        vertical-align: top;\n",
              "    }\n",
              "\n",
              "    .dataframe thead th {\n",
              "        text-align: right;\n",
              "    }\n",
              "</style>\n",
              "<table border=\"1\" class=\"dataframe\">\n",
              "  <thead>\n",
              "    <tr style=\"text-align: right;\">\n",
              "      <th></th>\n",
              "      <th>year</th>\n",
              "      <th>imdb</th>\n",
              "      <th>budget</th>\n",
              "      <th>domgross</th>\n",
              "      <th>intgross</th>\n",
              "      <th>code</th>\n",
              "      <th>budget_2013</th>\n",
              "      <th>domgross_2013</th>\n",
              "      <th>intgross_2013</th>\n",
              "      <th>binary</th>\n",
              "    </tr>\n",
              "  </thead>\n",
              "  <tbody>\n",
              "    <tr>\n",
              "      <th>1</th>\n",
              "      <td>1974</td>\n",
              "      <td>tt0071562</td>\n",
              "      <td>13000000</td>\n",
              "      <td>57300000</td>\n",
              "      <td>57300000</td>\n",
              "      <td>1974PASS</td>\n",
              "      <td>61408439</td>\n",
              "      <td>270669505</td>\n",
              "      <td>270669505</td>\n",
              "      <td>1</td>\n",
              "    </tr>\n",
              "  </tbody>\n",
              "</table>\n",
              "</div>"
            ],
            "text/plain": [
              "0  year       imdb    budget  ... domgross_2013 intgross_2013 binary\n",
              "1  1974  tt0071562  13000000  ...     270669505     270669505      1\n",
              "\n",
              "[1 rows x 10 columns]"
            ]
          },
          "metadata": {
            "tags": []
          },
          "execution_count": 404
        }
      ]
    },
    {
      "cell_type": "code",
      "metadata": {
        "colab": {
          "base_uri": "https://localhost:8080/",
          "height": 419
        },
        "id": "Nof4YS0UElpp",
        "outputId": "e885803b-56c5-41ff-d7b2-352f9b33c9ac"
      },
      "source": [
        "#Selecionando uma tabela para o treino do modelo com as variáveis \"Code\" retirada.\n",
        "treino = bh_df[['year', 'budget', 'domgross', 'intgross', 'budget_2013', 'domgross_2013', 'intgross_2013']]\n",
        "\n",
        "#Indexando a coluna imbd em ambos dataframes\n",
        "teste = teste.drop(['imdb'], axis=1)\n",
        "#teste = teste.set_index('imdb')\n",
        "#treino = treino.set_index('imdb')\n",
        "treino"
      ],
      "execution_count": 405,
      "outputs": [
        {
          "output_type": "execute_result",
          "data": {
            "text/html": [
              "<div>\n",
              "<style scoped>\n",
              "    .dataframe tbody tr th:only-of-type {\n",
              "        vertical-align: middle;\n",
              "    }\n",
              "\n",
              "    .dataframe tbody tr th {\n",
              "        vertical-align: top;\n",
              "    }\n",
              "\n",
              "    .dataframe thead th {\n",
              "        text-align: right;\n",
              "    }\n",
              "</style>\n",
              "<table border=\"1\" class=\"dataframe\">\n",
              "  <thead>\n",
              "    <tr style=\"text-align: right;\">\n",
              "      <th></th>\n",
              "      <th>year</th>\n",
              "      <th>budget</th>\n",
              "      <th>domgross</th>\n",
              "      <th>intgross</th>\n",
              "      <th>budget_2013</th>\n",
              "      <th>domgross_2013</th>\n",
              "      <th>intgross_2013</th>\n",
              "    </tr>\n",
              "  </thead>\n",
              "  <tbody>\n",
              "    <tr>\n",
              "      <th>1</th>\n",
              "      <td>1974</td>\n",
              "      <td>13000000</td>\n",
              "      <td>57300000</td>\n",
              "      <td>57300000</td>\n",
              "      <td>61408439</td>\n",
              "      <td>270669505</td>\n",
              "      <td>270669505</td>\n",
              "    </tr>\n",
              "    <tr>\n",
              "      <th>2</th>\n",
              "      <td>1982</td>\n",
              "      <td>10700000</td>\n",
              "      <td>74706019</td>\n",
              "      <td>121706019</td>\n",
              "      <td>25821968</td>\n",
              "      <td>180285645</td>\n",
              "      <td>293709241</td>\n",
              "    </tr>\n",
              "    <tr>\n",
              "      <th>3</th>\n",
              "      <td>2008</td>\n",
              "      <td>15000000</td>\n",
              "      <td>2203641</td>\n",
              "      <td>6379575</td>\n",
              "      <td>16233845</td>\n",
              "      <td>2384904</td>\n",
              "      <td>6904335</td>\n",
              "    </tr>\n",
              "    <tr>\n",
              "      <th>4</th>\n",
              "      <td>2011</td>\n",
              "      <td>12000000</td>\n",
              "      <td>16311571</td>\n",
              "      <td>22750356</td>\n",
              "      <td>12428289</td>\n",
              "      <td>16893744</td>\n",
              "      <td>23562334</td>\n",
              "    </tr>\n",
              "    <tr>\n",
              "      <th>5</th>\n",
              "      <td>2000</td>\n",
              "      <td>26000000</td>\n",
              "      <td>45506619</td>\n",
              "      <td>75763814</td>\n",
              "      <td>35175618</td>\n",
              "      <td>61566286</td>\n",
              "      <td>102501499</td>\n",
              "    </tr>\n",
              "    <tr>\n",
              "      <th>...</th>\n",
              "      <td>...</td>\n",
              "      <td>...</td>\n",
              "      <td>...</td>\n",
              "      <td>...</td>\n",
              "      <td>...</td>\n",
              "      <td>...</td>\n",
              "      <td>...</td>\n",
              "    </tr>\n",
              "    <tr>\n",
              "      <th>1496</th>\n",
              "      <td>1978</td>\n",
              "      <td>3000000</td>\n",
              "      <td>3446749</td>\n",
              "      <td>3660880</td>\n",
              "      <td>10712118</td>\n",
              "      <td>12307327</td>\n",
              "      <td>13071926</td>\n",
              "    </tr>\n",
              "    <tr>\n",
              "      <th>1497</th>\n",
              "      <td>1998</td>\n",
              "      <td>13000000</td>\n",
              "      <td>16757163</td>\n",
              "      <td>16757163</td>\n",
              "      <td>18578720</td>\n",
              "      <td>23948203</td>\n",
              "      <td>23948203</td>\n",
              "    </tr>\n",
              "    <tr>\n",
              "      <th>1498</th>\n",
              "      <td>2006</td>\n",
              "      <td>11000000</td>\n",
              "      <td>72778712</td>\n",
              "      <td>85278712</td>\n",
              "      <td>12713760</td>\n",
              "      <td>84117369</td>\n",
              "      <td>98564824</td>\n",
              "    </tr>\n",
              "    <tr>\n",
              "      <th>1499</th>\n",
              "      <td>2005</td>\n",
              "      <td>88000000</td>\n",
              "      <td>61649911</td>\n",
              "      <td>108539911</td>\n",
              "      <td>104986915</td>\n",
              "      <td>73550386</td>\n",
              "      <td>129491710</td>\n",
              "    </tr>\n",
              "    <tr>\n",
              "      <th>1500</th>\n",
              "      <td>1998</td>\n",
              "      <td>40000000</td>\n",
              "      <td>55143823</td>\n",
              "      <td>71743823</td>\n",
              "      <td>57165293</td>\n",
              "      <td>78807819</td>\n",
              "      <td>102531416</td>\n",
              "    </tr>\n",
              "  </tbody>\n",
              "</table>\n",
              "<p>1484 rows × 7 columns</p>\n",
              "</div>"
            ],
            "text/plain": [
              "0     year    budget  domgross  ... budget_2013 domgross_2013 intgross_2013\n",
              "1     1974  13000000  57300000  ...    61408439     270669505     270669505\n",
              "2     1982  10700000  74706019  ...    25821968     180285645     293709241\n",
              "3     2008  15000000   2203641  ...    16233845       2384904       6904335\n",
              "4     2011  12000000  16311571  ...    12428289      16893744      23562334\n",
              "5     2000  26000000  45506619  ...    35175618      61566286     102501499\n",
              "...    ...       ...       ...  ...         ...           ...           ...\n",
              "1496  1978   3000000   3446749  ...    10712118      12307327      13071926\n",
              "1497  1998  13000000  16757163  ...    18578720      23948203      23948203\n",
              "1498  2006  11000000  72778712  ...    12713760      84117369      98564824\n",
              "1499  2005  88000000  61649911  ...   104986915      73550386     129491710\n",
              "1500  1998  40000000  55143823  ...    57165293      78807819     102531416\n",
              "\n",
              "[1484 rows x 7 columns]"
            ]
          },
          "metadata": {
            "tags": []
          },
          "execution_count": 405
        }
      ]
    },
    {
      "cell_type": "code",
      "metadata": {
        "colab": {
          "base_uri": "https://localhost:8080/"
        },
        "id": "nuJ4fjiHE3cS",
        "outputId": "65153b38-4e38-4448-9a28-da59fa3c8ead"
      },
      "source": [
        "#Verificando o tipo de cada coluna\n",
        "print(treino.dtypes,'\\n________________________\\n', teste.dtypes)"
      ],
      "execution_count": 406,
      "outputs": [
        {
          "output_type": "stream",
          "text": [
            "0\n",
            "year             object\n",
            "budget           object\n",
            "domgross         object\n",
            "intgross         object\n",
            "budget_2013      object\n",
            "domgross_2013    object\n",
            "intgross_2013    object\n",
            "dtype: object \n",
            "________________________\n",
            " year               int64\n",
            "budget             int64\n",
            "domgross         float64\n",
            "intgross         float64\n",
            "budget_2013        int64\n",
            "domgross_2013    float64\n",
            "intgross_2013    float64\n",
            "dtype: object\n"
          ],
          "name": "stdout"
        }
      ]
    },
    {
      "cell_type": "code",
      "metadata": {
        "colab": {
          "base_uri": "https://localhost:8080/"
        },
        "id": "oWNmEwGcPQJ-",
        "outputId": "970d5a8a-9c7e-44d4-fb44-dcceb1ddff2e"
      },
      "source": [
        "#É observado onde o dataset de teste está bem especificado cada coluna em sua tipificação, com isto iremos aplicar das mesmas no treino.\n",
        "treino['domgross'] = treino.domgross.astype(float)\n",
        "treino['intgross'] = treino.intgross.astype(float)\n",
        "treino['domgross_2013'] = treino.domgross_2013.astype(float)\n",
        "treino['intgross_2013'] = treino.intgross_2013.astype(float)\n",
        "treino['budget_2013'] = treino.budget_2013.astype(int)\n",
        "treino['year'] = treino.year.astype(int)\n",
        "treino['budget'] = treino.budget.astype(int)"
      ],
      "execution_count": 407,
      "outputs": [
        {
          "output_type": "stream",
          "text": [
            "/usr/local/lib/python3.7/dist-packages/ipykernel_launcher.py:2: SettingWithCopyWarning:\n",
            "\n",
            "\n",
            "A value is trying to be set on a copy of a slice from a DataFrame.\n",
            "Try using .loc[row_indexer,col_indexer] = value instead\n",
            "\n",
            "See the caveats in the documentation: https://pandas.pydata.org/pandas-docs/stable/user_guide/indexing.html#returning-a-view-versus-a-copy\n",
            "\n",
            "/usr/local/lib/python3.7/dist-packages/ipykernel_launcher.py:3: SettingWithCopyWarning:\n",
            "\n",
            "\n",
            "A value is trying to be set on a copy of a slice from a DataFrame.\n",
            "Try using .loc[row_indexer,col_indexer] = value instead\n",
            "\n",
            "See the caveats in the documentation: https://pandas.pydata.org/pandas-docs/stable/user_guide/indexing.html#returning-a-view-versus-a-copy\n",
            "\n",
            "/usr/local/lib/python3.7/dist-packages/ipykernel_launcher.py:4: SettingWithCopyWarning:\n",
            "\n",
            "\n",
            "A value is trying to be set on a copy of a slice from a DataFrame.\n",
            "Try using .loc[row_indexer,col_indexer] = value instead\n",
            "\n",
            "See the caveats in the documentation: https://pandas.pydata.org/pandas-docs/stable/user_guide/indexing.html#returning-a-view-versus-a-copy\n",
            "\n",
            "/usr/local/lib/python3.7/dist-packages/ipykernel_launcher.py:5: SettingWithCopyWarning:\n",
            "\n",
            "\n",
            "A value is trying to be set on a copy of a slice from a DataFrame.\n",
            "Try using .loc[row_indexer,col_indexer] = value instead\n",
            "\n",
            "See the caveats in the documentation: https://pandas.pydata.org/pandas-docs/stable/user_guide/indexing.html#returning-a-view-versus-a-copy\n",
            "\n",
            "/usr/local/lib/python3.7/dist-packages/ipykernel_launcher.py:6: SettingWithCopyWarning:\n",
            "\n",
            "\n",
            "A value is trying to be set on a copy of a slice from a DataFrame.\n",
            "Try using .loc[row_indexer,col_indexer] = value instead\n",
            "\n",
            "See the caveats in the documentation: https://pandas.pydata.org/pandas-docs/stable/user_guide/indexing.html#returning-a-view-versus-a-copy\n",
            "\n",
            "/usr/local/lib/python3.7/dist-packages/ipykernel_launcher.py:7: SettingWithCopyWarning:\n",
            "\n",
            "\n",
            "A value is trying to be set on a copy of a slice from a DataFrame.\n",
            "Try using .loc[row_indexer,col_indexer] = value instead\n",
            "\n",
            "See the caveats in the documentation: https://pandas.pydata.org/pandas-docs/stable/user_guide/indexing.html#returning-a-view-versus-a-copy\n",
            "\n",
            "/usr/local/lib/python3.7/dist-packages/ipykernel_launcher.py:8: SettingWithCopyWarning:\n",
            "\n",
            "\n",
            "A value is trying to be set on a copy of a slice from a DataFrame.\n",
            "Try using .loc[row_indexer,col_indexer] = value instead\n",
            "\n",
            "See the caveats in the documentation: https://pandas.pydata.org/pandas-docs/stable/user_guide/indexing.html#returning-a-view-versus-a-copy\n",
            "\n"
          ],
          "name": "stderr"
        }
      ]
    },
    {
      "cell_type": "markdown",
      "metadata": {
        "id": "UCqkGvS9Q8Bl"
      },
      "source": [
        "##**Definição e aplicação do modelo**"
      ]
    },
    {
      "cell_type": "markdown",
      "metadata": {
        "id": "Z7__e3-xRkbg"
      },
      "source": [
        "Iremos aplicar uma livraria/modelo do Scikit Learn chamado **Random Forest Classifier**. Onde utiliza um mecanismo com várias árvores de decisão, aleatoriamente. Este algoritmo é utilizando em regressão tão quanto classificação.\n",
        "\n",
        "Pelo fator da aleatoriedade, é de suma importância a aplicação da validação do modelo. E uma das mais conhecidas validações é a cruzada, onde este modelo se destaca fornecendo ótimas precisões.\n",
        "\n",
        "E para a aplicação da validação cruzada ser eficaz, iremos utilizar o método de **Repeated K-Fold**, onde é um meio para melhorar a perfomance estimada do nosso modelo de *machine learning* utilizando a repetição em k vezes e as aleatorizando em cada uma destas vezes."
      ]
    },
    {
      "cell_type": "code",
      "metadata": {
        "id": "1WKmmyVEQ77T"
      },
      "source": [
        "# Importando a livraria de Random Forest\n",
        "from sklearn.ensemble import RandomForestClassifier\n",
        "#Instanciando em uma variável chamada modelo\n",
        "modelo = RandomForestClassifier(n_estimators=100, n_jobs=-1, random_state=0)\n",
        "#Livraria do método de \"Repeated Kfold\"\n",
        "from sklearn.model_selection import RepeatedKFold\n",
        "#Importando a livraria da divisão entre treino e teste\n",
        "from sklearn.model_selection import train_test_split"
      ],
      "execution_count": 408,
      "outputs": []
    },
    {
      "cell_type": "code",
      "metadata": {
        "colab": {
          "base_uri": "https://localhost:8080/"
        },
        "id": "rGWndFXDXveH",
        "outputId": "53f3e31a-bbfa-4d50-caa1-1fec78bd14df"
      },
      "source": [
        "#Chamaremos as variáveis de treino de X e a variável que está sendo prevista(Coluna 'binary') de y\n",
        "X = treino\n",
        "y = bh_df[['binary']]\n",
        "#Ajustando o modelo nos dados de treino\n",
        "X = X. fillna(-1)\n",
        "modelo.fit(X, y.values.ravel())"
      ],
      "execution_count": 410,
      "outputs": [
        {
          "output_type": "execute_result",
          "data": {
            "text/plain": [
              "RandomForestClassifier(bootstrap=True, ccp_alpha=0.0, class_weight=None,\n",
              "                       criterion='gini', max_depth=None, max_features='auto',\n",
              "                       max_leaf_nodes=None, max_samples=None,\n",
              "                       min_impurity_decrease=0.0, min_impurity_split=None,\n",
              "                       min_samples_leaf=1, min_samples_split=2,\n",
              "                       min_weight_fraction_leaf=0.0, n_estimators=100,\n",
              "                       n_jobs=-1, oob_score=False, random_state=0, verbose=0,\n",
              "                       warm_start=False)"
            ]
          },
          "metadata": {
            "tags": []
          },
          "execution_count": 410
        }
      ]
    },
    {
      "cell_type": "code",
      "metadata": {
        "colab": {
          "base_uri": "https://localhost:8080/"
        },
        "id": "DeVHxphWZlqm",
        "outputId": "05a26158-86ca-4d44-8eac-c7ef5fa1929a"
      },
      "source": [
        "#Instanciando os dados de teste\n",
        "X_prev = teste\n",
        "X_prev = X_prev.fillna(-1)\n",
        "#Aplicando o modelo para prever os dados de teste\n",
        "h = modelo.predict(X_prev)\n",
        "pd.Series(h)"
      ],
      "execution_count": 437,
      "outputs": [
        {
          "output_type": "execute_result",
          "data": {
            "text/plain": [
              "0      0\n",
              "1      1\n",
              "2      0\n",
              "3      0\n",
              "4      0\n",
              "      ..\n",
              "289    0\n",
              "290    0\n",
              "291    0\n",
              "292    0\n",
              "293    0\n",
              "Length: 294, dtype: int64"
            ]
          },
          "metadata": {
            "tags": []
          },
          "execution_count": 437
        }
      ]
    },
    {
      "cell_type": "code",
      "metadata": {
        "colab": {
          "base_uri": "https://localhost:8080/",
          "height": 204
        },
        "id": "_QsAwyeWDpG8",
        "outputId": "1f75136a-3025-433a-88bd-64f210734c22"
      },
      "source": [
        "#Separando dados de treino e teste do banco de dados de Bechdel\n",
        "np.random.seed(0)\n",
        "X_treino, X_valid, y_treino, y_valid = train_test_split(X, y, test_size=0.5)\n",
        "X_treino.head()"
      ],
      "execution_count": 413,
      "outputs": [
        {
          "output_type": "execute_result",
          "data": {
            "text/html": [
              "<div>\n",
              "<style scoped>\n",
              "    .dataframe tbody tr th:only-of-type {\n",
              "        vertical-align: middle;\n",
              "    }\n",
              "\n",
              "    .dataframe tbody tr th {\n",
              "        vertical-align: top;\n",
              "    }\n",
              "\n",
              "    .dataframe thead th {\n",
              "        text-align: right;\n",
              "    }\n",
              "</style>\n",
              "<table border=\"1\" class=\"dataframe\">\n",
              "  <thead>\n",
              "    <tr style=\"text-align: right;\">\n",
              "      <th></th>\n",
              "      <th>year</th>\n",
              "      <th>budget</th>\n",
              "      <th>domgross</th>\n",
              "      <th>intgross</th>\n",
              "      <th>budget_2013</th>\n",
              "      <th>domgross_2013</th>\n",
              "      <th>intgross_2013</th>\n",
              "    </tr>\n",
              "  </thead>\n",
              "  <tbody>\n",
              "    <tr>\n",
              "      <th>977</th>\n",
              "      <td>2009</td>\n",
              "      <td>200000000</td>\n",
              "      <td>125322469.0</td>\n",
              "      <td>371628539.0</td>\n",
              "      <td>217146319</td>\n",
              "      <td>136066564.0</td>\n",
              "      <td>403488847.0</td>\n",
              "    </tr>\n",
              "    <tr>\n",
              "      <th>523</th>\n",
              "      <td>1986</td>\n",
              "      <td>15000000</td>\n",
              "      <td>179800601.0</td>\n",
              "      <td>356800601.0</td>\n",
              "      <td>31856471</td>\n",
              "      <td>381854174.0</td>\n",
              "      <td>757760530.0</td>\n",
              "    </tr>\n",
              "    <tr>\n",
              "      <th>1378</th>\n",
              "      <td>2012</td>\n",
              "      <td>275000000</td>\n",
              "      <td>73058679.0</td>\n",
              "      <td>282778100.0</td>\n",
              "      <td>279025606</td>\n",
              "      <td>74128153.0</td>\n",
              "      <td>286917566.0</td>\n",
              "    </tr>\n",
              "    <tr>\n",
              "      <th>793</th>\n",
              "      <td>1988</td>\n",
              "      <td>70000000</td>\n",
              "      <td>154112492.0</td>\n",
              "      <td>351500000.0</td>\n",
              "      <td>137875291</td>\n",
              "      <td>303547209.0</td>\n",
              "      <td>692330924.0</td>\n",
              "    </tr>\n",
              "    <tr>\n",
              "      <th>239</th>\n",
              "      <td>2005</td>\n",
              "      <td>80000000</td>\n",
              "      <td>128200012.0</td>\n",
              "      <td>260700012.0</td>\n",
              "      <td>95442650</td>\n",
              "      <td>152946861.0</td>\n",
              "      <td>311023751.0</td>\n",
              "    </tr>\n",
              "  </tbody>\n",
              "</table>\n",
              "</div>"
            ],
            "text/plain": [
              "0     year     budget     domgross  ...  budget_2013  domgross_2013  intgross_2013\n",
              "977   2009  200000000  125322469.0  ...    217146319    136066564.0    403488847.0\n",
              "523   1986   15000000  179800601.0  ...     31856471    381854174.0    757760530.0\n",
              "1378  2012  275000000   73058679.0  ...    279025606     74128153.0    286917566.0\n",
              "793   1988   70000000  154112492.0  ...    137875291    303547209.0    692330924.0\n",
              "239   2005   80000000  128200012.0  ...     95442650    152946861.0    311023751.0\n",
              "\n",
              "[5 rows x 7 columns]"
            ]
          },
          "metadata": {
            "tags": []
          },
          "execution_count": 413
        }
      ]
    },
    {
      "cell_type": "code",
      "metadata": {
        "colab": {
          "base_uri": "https://localhost:8080/"
        },
        "id": "Ix3vriqv87wU",
        "outputId": "e9be5bed-2531-4af0-8259-a768cc917d7e"
      },
      "source": [
        "#Formato dos dados\n",
        "X_treino.shape, X_valid.shape, y_treino.shape, y_valid.shape\n",
        "#Ajustando os dados de treino no modelo\n",
        "modelo.fit(X_treino, y_treino.values.ravel())"
      ],
      "execution_count": 414,
      "outputs": [
        {
          "output_type": "execute_result",
          "data": {
            "text/plain": [
              "((742, 7), (742, 7), (742, 1), (742, 1))"
            ]
          },
          "metadata": {
            "tags": []
          },
          "execution_count": 414
        }
      ]
    },
    {
      "cell_type": "code",
      "metadata": {
        "colab": {
          "base_uri": "https://localhost:8080/"
        },
        "id": "7NQCyxxt8udc",
        "outputId": "19c7a3c1-8b1e-438a-dafd-666d36d04f9f"
      },
      "source": [
        "#Remodelando os dados de validação de X\n",
        "p = modelo.predict(X_valid)\n",
        "p=p.reshape(742,1)\n",
        "y_valid.shape"
      ],
      "execution_count": 416,
      "outputs": [
        {
          "output_type": "execute_result",
          "data": {
            "text/plain": [
              "(742, 1)"
            ]
          },
          "metadata": {
            "tags": []
          },
          "execution_count": 416
        }
      ]
    },
    {
      "cell_type": "code",
      "metadata": {
        "colab": {
          "base_uri": "https://localhost:8080/"
        },
        "id": "U41eUd0e8zw5",
        "outputId": "ed40bc95-40db-4399-8dbc-8ebbc26ebf9c"
      },
      "source": [
        "#Acurácia média dos dados previstos dentro do próprio banco de dados de treino de uma amostra aleatória\n",
        "np.mean(y_valid == p)"
      ],
      "execution_count": 417,
      "outputs": [
        {
          "output_type": "execute_result",
          "data": {
            "text/plain": [
              "0\n",
              "binary    0.522911\n",
              "dtype: float64"
            ]
          },
          "metadata": {
            "tags": []
          },
          "execution_count": 417
        }
      ]
    },
    {
      "cell_type": "code",
      "metadata": {
        "colab": {
          "base_uri": "https://localhost:8080/"
        },
        "id": "_u0TLCHIG6cr",
        "outputId": "cd72a9d0-f90c-45df-8331-ce0c23a08b98"
      },
      "source": [
        "#Lista para armazenar os resultados\n",
        "resultados = []\n",
        "\n",
        "#Aplicação do método de Repeated Kfold, com 2 divisões de dados, 10 repetições e aleatorizados.\n",
        "kf = RepeatedKFold(n_splits=2, n_repeats=10, random_state=20)\n",
        "\n",
        "#Loop para impressão dos dados de treino e validação aleatórios, ajustando no modelo, prevendo os valores de teste e armazenando na lista de resultados\n",
        "for linhas_treino, linhas_valid in kf.split(X):\n",
        "    print(\"Treino:\", linhas_treino.shape[0])\n",
        "    print(\"Valid:\", linhas_valid.shape[0])\n",
        "\n",
        "    X_treino, X_valid = X.iloc[linhas_treino], X.iloc[linhas_valid]\n",
        "    y_treino, y_valid = y.iloc[linhas_treino], y.iloc[linhas_valid]\n",
        "\n",
        "    modelo = RandomForestClassifier(n_estimators=100, n_jobs=-1, random_state=0)\n",
        "    modelo.fit(X_treino, y_treino.values.ravel())\n",
        "\n",
        "    p = modelo.predict(X_valid)\n",
        "    pd.Series(p)\n",
        "    p=p.reshape(742,1)\n",
        "\n",
        "    acc = np.mean(y_valid == p)\n",
        "    resultados.append(acc)\n",
        "    print(\"Acurácia:\", acc)\n",
        "    print()"
      ],
      "execution_count": 422,
      "outputs": [
        {
          "output_type": "stream",
          "text": [
            "Treino: 742\n",
            "Valid: 742\n",
            "Acc: 0\n",
            "binary    0.555256\n",
            "dtype: float64\n",
            "\n",
            "Treino: 742\n",
            "Valid: 742\n",
            "Acc: 0\n",
            "binary    0.551213\n",
            "dtype: float64\n",
            "\n",
            "Treino: 742\n",
            "Valid: 742\n",
            "Acc: 0\n",
            "binary    0.53504\n",
            "dtype: float64\n",
            "\n",
            "Treino: 742\n",
            "Valid: 742\n",
            "Acc: 0\n",
            "binary    0.551213\n",
            "dtype: float64\n",
            "\n",
            "Treino: 742\n",
            "Valid: 742\n",
            "Acc: 0\n",
            "binary    0.518868\n",
            "dtype: float64\n",
            "\n",
            "Treino: 742\n",
            "Valid: 742\n",
            "Acc: 0\n",
            "binary    0.528302\n",
            "dtype: float64\n",
            "\n",
            "Treino: 742\n",
            "Valid: 742\n",
            "Acc: 0\n",
            "binary    0.543127\n",
            "dtype: float64\n",
            "\n",
            "Treino: 742\n",
            "Valid: 742\n",
            "Acc: 0\n",
            "binary    0.539084\n",
            "dtype: float64\n",
            "\n",
            "Treino: 742\n",
            "Valid: 742\n",
            "Acc: 0\n",
            "binary    0.543127\n",
            "dtype: float64\n",
            "\n",
            "Treino: 742\n",
            "Valid: 742\n",
            "Acc: 0\n",
            "binary    0.549865\n",
            "dtype: float64\n",
            "\n",
            "Treino: 742\n",
            "Valid: 742\n",
            "Acc: 0\n",
            "binary    0.532345\n",
            "dtype: float64\n",
            "\n",
            "Treino: 742\n",
            "Valid: 742\n",
            "Acc: 0\n",
            "binary    0.51752\n",
            "dtype: float64\n",
            "\n",
            "Treino: 742\n",
            "Valid: 742\n",
            "Acc: 0\n",
            "binary    0.539084\n",
            "dtype: float64\n",
            "\n",
            "Treino: 742\n",
            "Valid: 742\n",
            "Acc: 0\n",
            "binary    0.524259\n",
            "dtype: float64\n",
            "\n",
            "Treino: 742\n",
            "Valid: 742\n",
            "Acc: 0\n",
            "binary    0.561995\n",
            "dtype: float64\n",
            "\n",
            "Treino: 742\n",
            "Valid: 742\n",
            "Acc: 0\n",
            "binary    0.516173\n",
            "dtype: float64\n",
            "\n",
            "Treino: 742\n",
            "Valid: 742\n",
            "Acc: 0\n",
            "binary    0.543127\n",
            "dtype: float64\n",
            "\n",
            "Treino: 742\n",
            "Valid: 742\n",
            "Acc: 0\n",
            "binary    0.525606\n",
            "dtype: float64\n",
            "\n",
            "Treino: 742\n",
            "Valid: 742\n",
            "Acc: 0\n",
            "binary    0.51752\n",
            "dtype: float64\n",
            "\n",
            "Treino: 742\n",
            "Valid: 742\n",
            "Acc: 0\n",
            "binary    0.544474\n",
            "dtype: float64\n",
            "\n"
          ],
          "name": "stdout"
        }
      ]
    },
    {
      "cell_type": "code",
      "metadata": {
        "colab": {
          "base_uri": "https://localhost:8080/"
        },
        "id": "qHDczIntHhLi",
        "outputId": "a4ce7644-f9f5-4d5e-8015-c065f6846454"
      },
      "source": [
        "#Aplicando a média dos resultados em %\n",
        "np.mean(resultados)*100"
      ],
      "execution_count": 434,
      "outputs": [
        {
          "output_type": "execute_result",
          "data": {
            "text/plain": [
              "53.68598382749325"
            ]
          },
          "metadata": {
            "tags": []
          },
          "execution_count": 434
        }
      ]
    },
    {
      "cell_type": "code",
      "metadata": {
        "id": "y27Oj--wTtzm"
      },
      "source": [
        "h = pd.Series(h)\n",
        "h.to_csv(\"mdb.csv\", header=True)"
      ],
      "execution_count": 440,
      "outputs": []
    },
    {
      "cell_type": "markdown",
      "metadata": {
        "id": "LILHHNxXS3op"
      },
      "source": [
        "Ou seja nosso modelo consegue prever 53,68% dos dados com precisão de filmes que passaram no teste de Bechdel. Para o aumento desta porcentagem, é interessante a aplicação de um \"Grind Search\" para outros modelos mais promissores. Também a refinação dos hiperparâmetros do modelo, onde se tornaria mais personalizado, porém mais trabalhoso."
      ]
    }
  ]
}